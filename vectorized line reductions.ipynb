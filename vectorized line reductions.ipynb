{
 "cells": [
  {
   "cell_type": "code",
   "execution_count": 1,
   "metadata": {
    "collapsed": false
   },
   "outputs": [
    {
     "name": "stdout",
     "output_type": "stream",
     "text": [
      "\n",
      "=======================================\n",
      "=  THREEDHST.__init__.defaultOptions  =\n",
      "=======================================\n",
      "\n",
      "Initializing THREEDHST parameters\n",
      "\n",
      "=========== 2015/9/21 8:13 ============\n",
      "\n",
      "\n",
      "WARNING: No pysao installation found.  `threedhst.dq` won't work\n",
      " but the reduction scripts should be OK.\n",
      "\n"
     ]
    }
   ],
   "source": [
    "import glob\n",
    "import os\n",
    "import pyfits\n",
    "import numpy as np\n",
    "import matplotlib.pyplot as plt\n",
    "from pylab import *\n",
    "import pywcs\n",
    "import os, sys\n",
    "from astropy.io import fits\n",
    "import matplotlib\n",
    "%matplotlib inline\n",
    "from scipy.integrate import quad\n",
    "import scipy\n",
    "from scipy import stats\n",
    "sys.path.append(\"./reduction/threedhst\")\n",
    "sys.path.append(\"./reduction/my_python\")\n",
    "sys.path.append(\"./reduction/aXe2html-1.1\")\n",
    "os.environ[\"HOME\"] = \"C:\\\\cygwin\\\\home\\\\rohan naidu\"\n",
    "import threedhst\n",
    "import threedhst.eazyPy as eazy\n",
    "from scipy import ndimage\n",
    "import astropy.io.ascii as ascii\n",
    "import shutil\n",
    "import glob"
   ]
  },
  {
   "cell_type": "code",
   "execution_count": 2,
   "metadata": {
    "collapsed": true
   },
   "outputs": [],
   "source": [
    "#line catalogue for GOODS-N\n",
    "north_lines = fits.open(\"goodsn.linefit.linematched_all.v4.1.5.fits\")[1].data"
   ]
  },
  {
   "cell_type": "code",
   "execution_count": 3,
   "metadata": {
    "collapsed": true
   },
   "outputs": [],
   "source": [
    "phot_eazy = eazy.TemplateInterpolator(None, MAIN_OUTPUT_FILE='full', OUTPUT_DIRECTORY='./templates/FULL_EAZY/OUTPUT')"
   ]
  },
  {
   "cell_type": "code",
   "execution_count": 18,
   "metadata": {
    "collapsed": true
   },
   "outputs": [],
   "source": [
    "file_list = glob.glob('./unicorn/*')"
   ]
  },
  {
   "cell_type": "code",
   "execution_count": 5,
   "metadata": {
    "collapsed": false
   },
   "outputs": [],
   "source": [
    "#some string-formatting functions\n",
    "def dechar(a):\n",
    "    return (a.split('\\\\')[1]).split('.')[0]\n",
    "\n",
    "def get_name(a):\n",
    "    return a.split('.')[0]\n",
    "\n",
    "def star_this(element):\n",
    "    return '*'+element+'*'\n",
    "\n",
    "star_this_list = np.vectorize(star_this)\n",
    "\n",
    "dechar_array = np.vectorize(dechar)\n",
    "\n",
    "get_name_array = np.vectorize(get_name)\n",
    "\n",
    "#len(np.unique(dechar_array(file_list)))"
   ]
  },
  {
   "cell_type": "code",
   "execution_count": 21,
   "metadata": {
    "collapsed": true
   },
   "outputs": [
    {
     "data": {
      "text/plain": [
       "array(['goodsn-11-G141-big_07693', 'goodsn-11-G141_07693',\n",
       "       'goodsn-114-G141-big_24380', 'goodsn-114-G141_24380',\n",
       "       'goodsn-12-G141-big_18504', 'goodsn-12-G141_18504',\n",
       "       'goodsn-123-G141-big_12133', 'goodsn-123-G141_12133',\n",
       "       'goodsn-13-G141-big_18504', 'goodsn-13-G141_18504',\n",
       "       'goodsn-14-G141-big_20801', 'goodsn-14-G141-big_24380',\n",
       "       'goodsn-14-G141_20801', 'goodsn-14-G141_24380',\n",
       "       'goodsn-15-G141-big_25004', 'goodsn-15-G141-big_30053',\n",
       "       'goodsn-15-G141_25004', 'goodsn-15-G141_30053',\n",
       "       'goodsn-17-G141-big_34721', 'goodsn-17-G141-big_35204',\n",
       "       'goodsn-17-G141-big_36765', 'goodsn-17-G141_34721',\n",
       "       'goodsn-17-G141_35204', 'goodsn-17-G141_36765',\n",
       "       'goodsn-18-G141-big_36921', 'goodsn-18-G141_36921',\n",
       "       'goodsn-21-G141-big_07693', 'goodsn-21-G141_07693',\n",
       "       'goodsn-22-G141-big_11839', 'goodsn-22-G141_11839',\n",
       "       'goodsn-23-G141-big_11839', 'goodsn-23-G141-big_12133',\n",
       "       'goodsn-23-G141_11839', 'goodsn-23-G141_12133',\n",
       "       'goodsn-24-G141-big_19235', 'goodsn-24-G141-big_19591',\n",
       "       'goodsn-24-G141-big_20801', 'goodsn-24-G141-big_24380',\n",
       "       'goodsn-24-G141_19235', 'goodsn-24-G141_19591',\n",
       "       'goodsn-24-G141_20801', 'goodsn-24-G141_24380',\n",
       "       'goodsn-25-G141-big_21290', 'goodsn-25-G141-big_25004',\n",
       "       'goodsn-25-G141-big_25505', 'goodsn-25-G141_21290',\n",
       "       'goodsn-25-G141_25004', 'goodsn-25-G141_25505',\n",
       "       'goodsn-26-G141-big_25505', 'goodsn-26-G141-big_29463',\n",
       "       'goodsn-26-G141_25505', 'goodsn-26-G141_29463',\n",
       "       'goodsn-27-G141-big_34721', 'goodsn-27-G141_34721',\n",
       "       'goodsn-28-G141-big_33929', 'goodsn-28-G141-big_36921',\n",
       "       'goodsn-28-G141_33929', 'goodsn-28-G141_36921',\n",
       "       'goodsn-33-G141-big_12133', 'goodsn-33-G141_12133',\n",
       "       'goodsn-34-G141-big_13148', 'goodsn-34-G141-big_19591',\n",
       "       'goodsn-34-G141_13148', 'goodsn-34-G141_19591',\n",
       "       'goodsn-35-G141-big_21290', 'goodsn-35-G141_21290',\n",
       "       'goodsn-36-G141-big_24427', 'goodsn-36-G141_24427',\n",
       "       'goodsn-41-G141-big_01258', 'goodsn-41-G141_01258',\n",
       "       'goodsn-42-G141-big_01060', 'goodsn-42-G141-big_01384',\n",
       "       'goodsn-42-G141_01060', 'goodsn-42-G141_01384',\n",
       "       'goodsn-44-G141-big_07472', 'goodsn-44-G141-big_13148',\n",
       "       'goodsn-44-G141_07472', 'goodsn-44-G141_13148',\n",
       "       'goodsn-45-G141-big_15359', 'goodsn-45-G141_15359', 'inspect_gui',\n",
       "       'outdir', 'runfile', 'templates'], \n",
       "      dtype='|S25')"
      ]
     },
     "execution_count": 21,
     "metadata": {},
     "output_type": "execute_result"
    }
   ],
   "source": [
    "np.unique(dechar_array(file_list))"
   ]
  },
  {
   "cell_type": "code",
   "execution_count": 6,
   "metadata": {
    "collapsed": false
   },
   "outputs": [],
   "source": [
    "#this calculates the eqw given an object ID, which line we're looking for(element=OIII, Ha etc), the interval (100A is what Iva suggested) around the target line\n",
    "#and finally, the degree of the best-fit curve--I've stuck with 1.\n",
    "def calculate_eqw(id, element, interval_for_continuum, best_fit_poly_degree):\n",
    "    if element == 'Ha':\n",
    "        target_wavelength = 6562.81\n",
    "    elif element == 'OIII':\n",
    "        target_wavelength = 5000 \n",
    "#from Iva's grism paper:        \n",
    "    field = id.split('-')[0]\n",
    "    nn = int(id.split('_')[1])\n",
    "\n",
    "    if field.startswith('good'):\n",
    "            uf = field.replace('goods','goods-').upper()\n",
    "    else:\n",
    "            uf = field.upper()\n",
    "\n",
    "    OUTPUT_DIRECTORY='./unicorn/outdir/'\n",
    "    MAIN_OUTPUT_FILE = '{}_3dhst.v4.1'.format(field)\n",
    "    \n",
    "    new_zfit = fits.open('./unicorn/{}.new_zfit.fits'.format(id))\n",
    "    coeffs = new_zfit[5].data\n",
    "    fit = np.dot(phot_eazy.temp_seds, coeffs)\n",
    "    tmp_temp = np.copy(phot_eazy.temp_seds)\n",
    "    tmp_temp[:,7] *= 0.\n",
    "    tmp_temp[:,8] *= 0.\n",
    "    fit_no_lines = np.dot(tmp_temp, coeffs)\n",
    "    \n",
    "    zout = ascii.read(OUTPUT_DIRECTORY+'/'+MAIN_OUTPUT_FILE+'.zout')\n",
    "    idx = np.where(zout['id'] == nn)[0][0]\n",
    "    lambdaz, temp_sed, lci, obs_sed, fobs, efobs = eazy.getEazySED(idx, MAIN_OUTPUT_FILE=MAIN_OUTPUT_FILE, OUTPUT_DIRECTORY=OUTPUT_DIRECTORY)\n",
    "\n",
    "    line_filename = '{}.'\n",
    "    with open('./unicorn/{}.linefit.dat'.format(id), 'r') as fp:            \n",
    "            for ll in fp:\n",
    "                if ll.startswith('# z'):\n",
    "                    z = float(ll.split('=')[1])\n",
    "                if ll.startswith('# [xxx]'):\n",
    "                    values = ll.split()\n",
    "                    s0, s0_err, s1, s1_err = float(values[-10]), float(values[-8]), \\\n",
    "                        float(values[-4]), float(values[-2])\n",
    "\n",
    "    fit_no_lines /= (1+z)**2\n",
    "#x_axis and y_axis are the points in the interval we're considering to get a best-fit line for the continuum level    \n",
    "    x_axis = (phot_eazy.templam[(phot_eazy.templam*(1+z) < (((z+1)*target_wavelength) + interval_for_continuum)) & (phot_eazy.templam*(1+z) > (((z+1)*target_wavelength) - interval_for_continuum))])*(1+z)\n",
    "    y_axis = (fit_no_lines[(phot_eazy.templam*(1+z) < (((z+1)*target_wavelength) + interval_for_continuum)) & (phot_eazy.templam*(1+z) > (((z+1)*target_wavelength) - interval_for_continuum))])\n",
    "#best_fit_lines uses a least squares fit metho\n",
    "    best_fit_line = np.polyfit(x_axis, y_axis, best_fit_poly_degree)\n",
    "    best_fit_eqn = np.poly1d(best_fit_line)\n",
    "#we integrate over the specified interval under the best_fit line. We divide the line flux from the catalogue by the average continnum level for the interval.\n",
    "    ans, err = quad(best_fit_eqn, (((z+1)*target_wavelength) - interval_for_continuum), (((z+1)*target_wavelength) + interval_for_continuum))\n",
    "\n",
    "    return ((north_lines[element+'_flux'][nn-1])/(ans/(2*interval_for_continuum)))"
   ]
  },
  {
   "cell_type": "code",
   "execution_count": 7,
   "metadata": {
    "collapsed": true
   },
   "outputs": [],
   "source": [
    "#script to test the EQW calculation. It compares our calculated EQW against the EQW from the catalogue.\n",
    "#the resulting tuple is as follows: (id, calculated EQW, EQW from catalogue, % difference)\n",
    "def test(element, list_of_ids):\n",
    "    return np.array([(tu, calculate_eqw(tu,element, 100, 1), north_lines[element+'_EQW'][int(tu.split('_')[1]) - 1], 100*((calculate_eqw(tu,element, 100, 1)-(north_lines[element+'_EQW'][int(tu.split('_')[1]) - 1]))/(north_lines[element+'_EQW'][int(tu.split('_')[1]) - 1]))) for tu in list_of_ids])"
   ]
  },
  {
   "cell_type": "code",
   "execution_count": 9,
   "metadata": {
    "collapsed": true
   },
   "outputs": [],
   "source": [
    "def object_list():\n",
    "    gui_markings_open = fits.open('./unicorn/raw/inspect_3dhst_rpn.info.fits', memmap=True)\n",
    "    gui_markings= gui_markings_open[1].data\n",
    "    os.chdir('./unicorn/raw')\n",
    "    src_files = star_this_list(get_name_array(np.array(gui_markings['images'][np.asarray(gui_markings['sed'], dtype=bool)])))\n",
    "    for file_name in src_files:\n",
    "        for element in glob.glob(r'%s'%file_name):\n",
    "             shutil.copy(element, '..')\n",
    "    os.chdir('../..')\n",
    "    gui_markings_open.close()\n",
    "    return get_name_array(np.array(gui_markings['images'][np.asarray(gui_markings['sed'], dtype=bool)]))"
   ]
  },
  {
   "cell_type": "code",
   "execution_count": 104,
   "metadata": {
    "collapsed": false
   },
   "outputs": [
    {
     "data": {
      "text/plain": [
       "array([['goodsn-21-G141_06666', '212.561269315', '217.17', '-2.12217649077'],\n",
       "       ['goodsn-42-G141_02122', '206.997869783', '212.85', '-2.74941518295']], \n",
       "      dtype='|S20')"
      ]
     },
     "execution_count": 104,
     "metadata": {},
     "output_type": "execute_result"
    }
   ],
   "source": [
    "test(\"Ha\", object_list()) #hmag <20 and Halpha>100 minus funky looking objects"
   ]
  },
  {
   "cell_type": "code",
   "execution_count": 150,
   "metadata": {
    "collapsed": false
   },
   "outputs": [
    {
     "data": {
      "text/plain": [
       "array([['goodsn-18-G141_37623', '481.591889789', '439.0', '9.70202500893'],\n",
       "       ['goodsn-18-G141_37738', '179.525890696', '213.07', '-15.7432342909'],\n",
       "       ['goodsn-21-G141_04711', '155.710912907', '171.99', '-9.46513581794'],\n",
       "       ['goodsn-21-G141_05487', '213.480624918', '208.81', '2.23678220283'],\n",
       "       ['goodsn-21-G141_05684', '108.813135963', '110.96', '-1.93480897377'],\n",
       "       ['goodsn-24-G141_17829', '415.159631533', '384.36', '8.01322498007']], \n",
       "      dtype='|S20')"
      ]
     },
     "execution_count": 150,
     "metadata": {},
     "output_type": "execute_result"
    }
   ],
   "source": [
    "object_list_output = np.array(object_list())\n",
    "test(\"Ha\", object_list_output)  #hmag <21 and Halpha>100 minus funky stuff"
   ]
  },
  {
   "cell_type": "code",
   "execution_count": 10,
   "metadata": {
    "collapsed": false
   },
   "outputs": [
    {
     "data": {
      "text/plain": [
       "array([['goodsn-12-G141_17432', '191.145716657', '195.32', '-2.13715100497'],\n",
       "       ['goodsn-13-G141_19258', '273.919352347', '309.48', '-11.490450967'],\n",
       "       ['goodsn-28-G141_36108', '244.732220987', '270.34', '-9.47243434682'],\n",
       "       ['goodsn-36-G141_24582', '335.832949096', '383.59', '-12.4500250018'],\n",
       "       ['goodsn-45-G141_11389', '186.630359559', '192.69', '-3.1447612439'],\n",
       "       ['goodsn-45-G141_15768', '256.652779806', '304.6', '-15.7410440559']], \n",
       "      dtype='|S20')"
      ]
     },
     "execution_count": 10,
     "metadata": {},
     "output_type": "execute_result"
    }
   ],
   "source": [
    "object_list_output = np.array(object_list())\n",
    "test(\"Ha\", object_list_output) #hmag<22 and Halpha>100"
   ]
  },
  {
   "cell_type": "code",
   "execution_count": 11,
   "metadata": {
    "collapsed": false
   },
   "outputs": [
    {
     "data": {
      "text/plain": [
       "array([['goodsn-11-G141_11135', '223.581490119', '222.16', '0.639849711689'],\n",
       "       ['goodsn-11-G141_15236', '245.545056042', '262.02', '-6.28766657449'],\n",
       "       ['goodsn-114-G141_20549', '95.0183179649', '113.2', '-16.0615565681'],\n",
       "       ['goodsn-12-G141_14451', '328.632733188', '382.62', '-14.1098914881'],\n",
       "       ['goodsn-12-G141_15300', '447.918657093', '486.2', '-7.87357937197'],\n",
       "       ['goodsn-12-G141_17432', '191.145716657', '195.32', '-2.13715100497'],\n",
       "       ['goodsn-13-G141_16499', '154.350371901', '176.79', '-12.6928152602'],\n",
       "       ['goodsn-13-G141_19258', '273.919352347', '309.48', '-11.490450967'],\n",
       "       ['goodsn-13-G141_22790', '144.082731639', '179.55', '-19.753421532'],\n",
       "       ['goodsn-14-G141_20549', '95.7607440611', '113.2', '-15.4057031262'],\n",
       "       ['goodsn-17-G141_35795', '116.582953053', '125.11', '-6.81563979424'],\n",
       "       ['goodsn-17-G141_37307', '397.72842098', '415.07', '-4.1779890186'],\n",
       "       ['goodsn-21-G141_04523', '183.872511367', '219.65', '-16.2884082098'],\n",
       "       ['goodsn-21-G141_07281', '258.535785354', '265.81', '-2.73662188992'],\n",
       "       ['goodsn-22-G141_12849', '214.417009915', '242.49', '-11.5769681576'],\n",
       "       ['goodsn-23-G141_13746', '110.199677554', '118.55', '-7.04371357757'],\n",
       "       ['goodsn-23-G141_16041', '122.167945524', '137.56', '-11.1893388164'],\n",
       "       ['goodsn-24-G141_18505', '321.036397632', '323.8', '-0.853490539781'],\n",
       "       ['goodsn-24-G141_20549', '96.0973148229', '113.2', '-15.1083791318'],\n",
       "       ['goodsn-25-G141_26193', '300.714081973', '296.63', '1.37682701433'],\n",
       "       ['goodsn-26-G141_26193', '299.464071663', '296.63', '0.955423141047'],\n",
       "       ['goodsn-26-G141_27830', '212.162020699', '224.98', '-5.69738612376'],\n",
       "       ['goodsn-26-G141_28379', '258.548747673', '297.08', '-12.9699920313'],\n",
       "       ['goodsn-26-G141_29462', '142.363041983', '149.26', '-4.62076779926'],\n",
       "       ['goodsn-26-G141_30415', '294.334778406', '333.24', '-11.6748354322'],\n",
       "       ['goodsn-27-G141_31179', '220.811147949', '272.37', '-18.9297103393'],\n",
       "       ['goodsn-28-G141_36108', '244.732220987', '270.34', '-9.47243434682'],\n",
       "       ['goodsn-28-G141_37208', '225.741787051', '258.43', '-12.6487686992'],\n",
       "       ['goodsn-32-G141_04759', '138.363823305', '132.06', '4.77345396402'],\n",
       "       ['goodsn-32-G141_09093', '441.003500923', '479.33', '-7.99584817922'],\n",
       "       ['goodsn-33-G141_07588', '190.749947657', '217.11', '-12.1413349651'],\n",
       "       ['goodsn-33-G141_10968', '104.589993845', '123.48', '-15.2980289563'],\n",
       "       ['goodsn-34-G141_11339', '232.964558718', '272.52', '-14.5146929702'],\n",
       "       ['goodsn-35-G141_16942', '285.217291279', '304.57', '-6.35410865203'],\n",
       "       ['goodsn-35-G141_22547', '263.818828512', '279.55', '-5.62731943772'],\n",
       "       ['goodsn-35-G141_23082', '306.511774271', '361.68', '-15.2533249639'],\n",
       "       ['goodsn-36-G141_23151', '177.224280854', '172.61', '2.67324074719'],\n",
       "       ['goodsn-36-G141_24582', '335.832949096', '383.59', '-12.4500250018'],\n",
       "       ['goodsn-41-G141_00706', '145.413756972', '161.67', '-10.055200735'],\n",
       "       ['goodsn-42-G141_01939', '269.00162499', '315.14', '-14.6405962461'],\n",
       "       ['goodsn-44-G141_06563', '264.134274283', '275.05', '-3.96863323663'],\n",
       "       ['goodsn-44-G141_10377', '269.669972716', '291.49', '-7.48568639901'],\n",
       "       ['goodsn-45-G141_09694', '153.731308882', '170.47', '-9.81914185341'],\n",
       "       ['goodsn-45-G141_11389', '186.630359559', '192.69', '-3.1447612439'],\n",
       "       ['goodsn-45-G141_12950', '148.290102312', '188.36', '-21.273039758'],\n",
       "       ['goodsn-45-G141_15768', '256.652779806', '304.6', '-15.7410440559'],\n",
       "       ['goodsn-45-G141_17666', '142.916501025', '145.64', '-1.87002126802'],\n",
       "       ['goodsn-46-G141_16737', '151.361511767', '170.9', '-11.4327023014'],\n",
       "       ['goodsn-46-G141_17666', '142.991964815', '145.64', '-1.81820597679']], \n",
       "      dtype='|S21')"
      ]
     },
     "execution_count": 11,
     "metadata": {},
     "output_type": "execute_result"
    }
   ],
   "source": [
    "object_list_output = np.array(object_list())\n",
    "test(\"Ha\", object_list_output) #hmag<22 and Halpha>100 not as clean as above"
   ]
  }
 ],
 "metadata": {
  "kernelspec": {
   "display_name": "Python 2",
   "language": "python",
   "name": "python2"
  },
  "language_info": {
   "codemirror_mode": {
    "name": "ipython",
    "version": 2
   },
   "file_extension": ".py",
   "mimetype": "text/x-python",
   "name": "python",
   "nbconvert_exporter": "python",
   "pygments_lexer": "ipython2",
   "version": "2.7.7"
  }
 },
 "nbformat": 4,
 "nbformat_minor": 0
}
