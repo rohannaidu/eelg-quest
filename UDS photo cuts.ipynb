{
 "cells": [
  {
   "cell_type": "code",
   "execution_count": 1,
   "metadata": {
    "collapsed": true
   },
   "outputs": [],
   "source": [
    "import numpy as np\n",
    "import scipy\n",
    "from scipy import stats\n",
    "from astropy.io import fits\n",
    "uds_list = fits.open('uds_3dhst.v4.2.cat.FITS', memmap=True)\n",
    "uds_data = uds_list[1].data\n",
    "import matplotlib\n",
    "import matplotlib.pyplot as plt\n",
    "%matplotlib inline\n",
    "pha_list = fits.open('3dhst.v4.1.4.full.v1.fits', memmap=True)\n",
    "pha_data = pha_list[1].data\n",
    "import numpy.ma as ma\n",
    "\n",
    "def magab_err(flux, error):\n",
    "    if (np.absolute(error)) >= flux:\n",
    "        return 1.085\n",
    "    else:\n",
    "        return np.absolute((-1.085)* (error/flux))\n",
    "    \n",
    "def magab(flux, error):\n",
    "    if error > flux:\n",
    "        return (((-2.5)*(np.log10(error))) + 25 )\n",
    "    else:\n",
    "        return (((-2.5)*(np.log10(flux))) + 25 )\n",
    "\n",
    "magfunc = np.vectorize(magab)\n",
    "magerrorfunc = np.vectorize(magab_err)"
   ]
  },
  {
   "cell_type": "code",
   "execution_count": 3,
   "metadata": {
    "collapsed": false
   },
   "outputs": [
    {
     "name": "stdout",
     "output_type": "stream",
     "text": [
      "[[    1 44102]]\n",
      "[[    0  7991]\n",
      " [    1 36111]]\n"
     ]
    }
   ],
   "source": [
    "print scipy.stats.itemfreq(pha_data['id'][163865:207967] == uds_data['id'])\n",
    "uds_phot_use_1= (uds_data['use_phot']==1)\n",
    "print scipy.stats.itemfreq((uds_data['use_phot']==1))"
   ]
  },
  {
   "cell_type": "code",
   "execution_count": 4,
   "metadata": {
    "collapsed": true
   },
   "outputs": [],
   "source": [
    "def cutter (a, a_err, b, b_err, c, c_err): \n",
    "    return (((magfunc(a, a_err)- magfunc(b, b_err) >(0.44 + (((magerrorfunc(a, a_err))**2) + ((magerrorfunc(b, b_err))**2))**.5)) & \n",
    "(magfunc(c, c_err)- magfunc(b, b_err) >(0.44 + (((magerrorfunc(c, c_err))**2) + ((magerrorfunc(b, b_err))**2))**.5))) & uds_phot_use_1 & ((a>=0)& (b>=0) & (c>=0)) & (((a/a_err)>3)&((b/b_err)>3)&((c/c_err)>3)))\n",
    "#& (((a/a_err)>3)&((b/b_err)>3)&((c/c_err)>3))"
   ]
  },
  {
   "cell_type": "code",
   "execution_count": 5,
   "metadata": {
    "collapsed": false
   },
   "outputs": [
    {
     "name": "stderr",
     "output_type": "stream",
     "text": [
      "C:\\Anaconda\\lib\\site-packages\\IPython\\kernel\\__main__.py:24: RuntimeWarning: invalid value encountered in log10\n",
      "C:\\Anaconda\\lib\\site-packages\\IPython\\kernel\\__main__.py:22: RuntimeWarning: invalid value encountered in log10\n",
      "C:\\Anaconda\\lib\\site-packages\\IPython\\kernel\\__main__.py:3: RuntimeWarning: invalid value encountered in greater\n",
      "  app.launch_new_instance()\n",
      "C:\\Anaconda\\lib\\site-packages\\IPython\\kernel\\__main__.py:3: RuntimeWarning: divide by zero encountered in divide\n",
      "  app.launch_new_instance()\n",
      "C:\\Anaconda\\lib\\site-packages\\IPython\\kernel\\__main__.py:24: RuntimeWarning: divide by zero encountered in log10\n",
      "C:\\Anaconda\\lib\\site-packages\\IPython\\kernel\\__main__.py:3: RuntimeWarning: invalid value encountered in divide\n",
      "  app.launch_new_instance()\n"
     ]
    },
    {
     "name": "stdout",
     "output_type": "stream",
     "text": [
      "uds_jhk000 48\n",
      "uds_jhk010 16\n",
      "uds_jhk100 29\n",
      "uds_jhk110 19\n"
     ]
    }
   ],
   "source": [
    "###jhk selection###\n",
    "afils = [uds_data['f_f125w'],uds_data['e_f125w'], uds_data['f_j'], uds_data['e_j']]\n",
    "bfils= [uds_data['f_h'], uds_data['e_h'], uds_data['f_f160w'], uds_data['e_f160w']]\n",
    "cfils= [uds_data['f_k'], uds_data['e_k']]\n",
    "\n",
    "for a in range(0,2):\n",
    "    for b in range (0,2):\n",
    "        for c in range (0,1):\n",
    "            globals()['uds_jhk%d%d%d' %(a,b,c)] = (cutter(afils[2*a], afils[1+(2*a)], bfils[2*b], bfils[1+(2*b)], cfils[2*c], cfils[1+(2*c)]))\n",
    "\n",
    "for a in range(0,2):\n",
    "    for b in range (0,2):\n",
    "        for c in range (0,1):\n",
    "            print \"uds_jhk%d%d%d\"%(a,b,c), np.count_nonzero((globals()['uds_jhk%d%d%d' %(a,b,c)])==1)"
   ]
  },
  {
   "cell_type": "code",
   "execution_count": 7,
   "metadata": {
    "collapsed": false
   },
   "outputs": [
    {
     "name": "stdout",
     "output_type": "stream",
     "text": [
      "[   70   411  5178 12628 15589 18097 23793 25635 29817 30396 30800 32883\n",
      " 34360 38344 41342 43637]\n"
     ]
    }
   ],
   "source": [
    "print (uds_data['id'][uds_jhk010])"
   ]
  },
  {
   "cell_type": "code",
   "execution_count": 9,
   "metadata": {
    "collapsed": false
   },
   "outputs": [
    {
     "name": "stderr",
     "output_type": "stream",
     "text": [
      "C:\\Anaconda\\lib\\site-packages\\IPython\\kernel\\__main__.py:24: RuntimeWarning: invalid value encountered in log10\n",
      "C:\\Anaconda\\lib\\site-packages\\IPython\\kernel\\__main__.py:22: RuntimeWarning: invalid value encountered in log10\n",
      "C:\\Anaconda\\lib\\site-packages\\IPython\\kernel\\__main__.py:3: RuntimeWarning: invalid value encountered in greater\n",
      "  app.launch_new_instance()\n",
      "C:\\Anaconda\\lib\\site-packages\\IPython\\kernel\\__main__.py:3: RuntimeWarning: divide by zero encountered in divide\n",
      "  app.launch_new_instance()\n",
      "C:\\Anaconda\\lib\\site-packages\\IPython\\kernel\\__main__.py:24: RuntimeWarning: divide by zero encountered in log10\n"
     ]
    },
    {
     "name": "stdout",
     "output_type": "stream",
     "text": [
      "uds_ijh000 3\n",
      "uds_ijh001 60\n",
      "uds_ijh010 10\n",
      "uds_ijh011 301\n",
      "uds_ijh100 0\n",
      "uds_ijh101 50\n",
      "uds_ijh110 9\n",
      "uds_ijh111 256\n"
     ]
    },
    {
     "name": "stderr",
     "output_type": "stream",
     "text": [
      "C:\\Anaconda\\lib\\site-packages\\IPython\\kernel\\__main__.py:3: RuntimeWarning: invalid value encountered in divide\n",
      "  app.launch_new_instance()\n"
     ]
    }
   ],
   "source": [
    "###ijh selection###\n",
    "bfils = [uds_data['f_f125w'],uds_data['e_f125w'], uds_data['f_j'], uds_data['e_j'] ]\n",
    "cfils= [uds_data['f_h'], uds_data['e_h'],uds_data['f_f160w'], uds_data['e_f160w']]\n",
    "afils= [uds_data['f_I'], uds_data['e_I'], uds_data['f_f814W'], uds_data['e_f814W']]\n",
    "\n",
    "for a in range(0,2):\n",
    "    for b in range (0,2):\n",
    "        for c in range (0,2):\n",
    "            globals()['uds_ijh%d%d%d' %(a,b,c)] = (cutter(afils[2*a], afils[1+(2*a)], bfils[2*b], bfils[1+(2*b)], cfils[2*c], cfils[1+(2*c)]))\n",
    "\n",
    "for a in range(0,2):\n",
    "    for b in range (0,2):\n",
    "        for c in range (0,2):\n",
    "            print \"uds_ijh%d%d%d\"%(a,b,c), np.count_nonzero((globals()['uds_ijh%d%d%d' %(a,b,c)])==1)"
   ]
  },
  {
   "cell_type": "code",
   "execution_count": 12,
   "metadata": {
    "collapsed": false
   },
   "outputs": [
    {
     "name": "stderr",
     "output_type": "stream",
     "text": [
      "C:\\Anaconda\\lib\\site-packages\\IPython\\kernel\\__main__.py:24: RuntimeWarning: invalid value encountered in log10\n",
      "C:\\Anaconda\\lib\\site-packages\\IPython\\kernel\\__main__.py:22: RuntimeWarning: invalid value encountered in log10\n",
      "C:\\Anaconda\\lib\\site-packages\\IPython\\kernel\\__main__.py:3: RuntimeWarning: invalid value encountered in greater\n",
      "  app.launch_new_instance()\n"
     ]
    },
    {
     "name": "stdout",
     "output_type": "stream",
     "text": [
      " uds_ihk000 63\n",
      "uds_ihk010 34\n",
      "uds_ihk100 42\n",
      "uds_ihk110 25\n"
     ]
    },
    {
     "name": "stderr",
     "output_type": "stream",
     "text": [
      "C:\\Anaconda\\lib\\site-packages\\IPython\\kernel\\__main__.py:3: RuntimeWarning: divide by zero encountered in divide\n",
      "  app.launch_new_instance()\n"
     ]
    }
   ],
   "source": [
    "###ihk selection###\n",
    "bfils = [uds_data['f_h'], uds_data['e_h'],uds_data['f_f160w'], uds_data['e_f160w']]\n",
    "cfils = [uds_data['f_k'], uds_data['e_k']]\n",
    "afils= [uds_data['f_I'], uds_data['e_I'], uds_data['f_f814W'], uds_data['e_f814W']]\n",
    "\n",
    "for a in range(0,2):\n",
    "    for b in range (0,2):\n",
    "        for c in range (0,1):\n",
    "            globals()['uds_ihk%d%d%d' %(a,b,c)] = (cutter(afils[2*a], afils[1+(2*a)], bfils[2*b], bfils[1+(2*b)], cfils[2*c], cfils[1+(2*c)]))\n",
    "\n",
    "for a in range(0,2):\n",
    "    for b in range (0,2):\n",
    "        for c in range (0,1):\n",
    "            print \"uds_ihk%d%d%d\"%(a,b,c), np.count_nonzero((globals()['uds_ihk%d%d%d' %(a,b,c)])==1)"
   ]
  },
  {
   "cell_type": "code",
   "execution_count": 13,
   "metadata": {
    "collapsed": false
   },
   "outputs": [
    {
     "name": "stdout",
     "output_type": "stream",
     "text": [
      "[   70   411  5178  9055 12299 12628 16744 17322 18097 20779 20919 23793\n",
      " 23919 25215 25635 26435 27556 30800 32883 34360 38344 39944 41342 42751\n",
      " 43637]\n"
     ]
    }
   ],
   "source": [
    "print (uds_data['id'][uds_ihk110])"
   ]
  },
  {
   "cell_type": "code",
   "execution_count": 14,
   "metadata": {
    "collapsed": false
   },
   "outputs": [
    {
     "name": "stderr",
     "output_type": "stream",
     "text": [
      "C:\\Anaconda\\lib\\site-packages\\IPython\\kernel\\__main__.py:24: RuntimeWarning: invalid value encountered in log10\n",
      "C:\\Anaconda\\lib\\site-packages\\IPython\\kernel\\__main__.py:22: RuntimeWarning: invalid value encountered in log10\n",
      "C:\\Anaconda\\lib\\site-packages\\IPython\\kernel\\__main__.py:24: RuntimeWarning: divide by zero encountered in log10\n",
      "C:\\Anaconda\\lib\\site-packages\\IPython\\kernel\\__main__.py:3: RuntimeWarning: invalid value encountered in greater\n",
      "  app.launch_new_instance()\n"
     ]
    },
    {
     "name": "stdout",
     "output_type": "stream",
     "text": [
      "uds_vij000 25\n",
      "uds_vij001 12\n",
      "uds_vij010 5\n",
      "uds_vij011 10\n",
      "uds_vij100 23\n",
      "uds_vij101 8\n",
      "uds_vij110 4\n",
      "uds_vij111 8\n"
     ]
    },
    {
     "name": "stderr",
     "output_type": "stream",
     "text": [
      "C:\\Anaconda\\lib\\site-packages\\IPython\\kernel\\__main__.py:3: RuntimeWarning: invalid value encountered in divide\n",
      "  app.launch_new_instance()\n",
      "C:\\Anaconda\\lib\\site-packages\\IPython\\kernel\\__main__.py:3: RuntimeWarning: divide by zero encountered in divide\n",
      "  app.launch_new_instance()\n"
     ]
    }
   ],
   "source": [
    "###vij selection###\n",
    "cfils = [uds_data['f_f125w'],uds_data['e_f125w'], uds_data['f_j'], uds_data['e_j'] ]\n",
    "bfils= [uds_data['f_I'], uds_data['e_I'], uds_data['f_f814W'], uds_data['e_f814W']]\n",
    "afils= [uds_data['f_v'], uds_data['e_v'], uds_data['f_f606w'], uds_data['e_f606w']]\n",
    "\n",
    "for a in range(0,2):\n",
    "    for b in range (0,2):\n",
    "        for c in range (0,2):\n",
    "            globals()['uds_vij%d%d%d' %(a,b,c)] = (cutter(afils[2*a], afils[1+(2*a)], bfils[2*b], bfils[1+(2*b)], cfils[2*c], cfils[1+(2*c)]))\n",
    "\n",
    "for a in range(0,2):\n",
    "    for b in range (0,2):\n",
    "        for c in range (0,2):\n",
    "            print \"uds_vij%d%d%d\"%(a,b,c), np.count_nonzero((globals()['uds_vij%d%d%d' %(a,b,c)])==1)"
   ]
  },
  {
   "cell_type": "code",
   "execution_count": 15,
   "metadata": {
    "collapsed": false
   },
   "outputs": [
    {
     "name": "stdout",
     "output_type": "stream",
     "text": [
      "[14478 17317 21730 21920]\n"
     ]
    }
   ],
   "source": [
    "print (uds_data['id'][uds_vij110])"
   ]
  },
  {
   "cell_type": "code",
   "execution_count": null,
   "metadata": {
    "collapsed": true
   },
   "outputs": [],
   "source": []
  }
 ],
 "metadata": {
  "kernelspec": {
   "display_name": "Python 2",
   "language": "python",
   "name": "python2"
  },
  "language_info": {
   "codemirror_mode": {
    "name": "ipython",
    "version": 2
   },
   "file_extension": ".py",
   "mimetype": "text/x-python",
   "name": "python",
   "nbconvert_exporter": "python",
   "pygments_lexer": "ipython2",
   "version": "2.7.7"
  }
 },
 "nbformat": 4,
 "nbformat_minor": 0
}
