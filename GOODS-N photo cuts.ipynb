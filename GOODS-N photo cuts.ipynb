{
 "cells": [
  {
   "cell_type": "code",
   "execution_count": 1,
   "metadata": {
    "collapsed": true
   },
   "outputs": [],
   "source": [
    "import numpy as np\n",
    "import scipy\n",
    "from scipy import stats\n",
    "from astropy.io import fits\n",
    "north_list = fits.open('goodsn_3dhst.v4.1.cat.FITS', memmap=True)\n",
    "north_data = north_list[1].data\n",
    "import matplotlib\n",
    "import matplotlib.pyplot as plt\n",
    "%matplotlib inline\n",
    "pha_list = fits.open('3dhst.v4.1.4.full.v1.fits', memmap=True)\n",
    "pha_data = pha_list[1].data\n",
    "import numpy.ma as ma\n",
    "\n",
    "def magab_err(flux, error):\n",
    "    if (np.absolute(error)) >= flux:\n",
    "        return 1.085\n",
    "    else:\n",
    "        return np.absolute((-1.085)* (error/flux))\n",
    "    \n",
    "def magab(flux, error):\n",
    "    if error > flux:\n",
    "        return (((-2.5)*(np.log10(error))) + 25 )\n",
    "    else:\n",
    "        return (((-2.5)*(np.log10(flux))) + 25 )\n",
    "\n",
    "magfunc = np.vectorize(magab)\n",
    "magerrorfunc = np.vectorize(magab_err)"
   ]
  },
  {
   "cell_type": "code",
   "execution_count": 2,
   "metadata": {
    "collapsed": false
   },
   "outputs": [
    {
     "name": "stdout",
     "output_type": "stream",
     "text": [
      "[[    1 38279]]\n",
      "[[    0  5778]\n",
      " [    1 32501]]\n"
     ]
    }
   ],
   "source": [
    "print scipy.stats.itemfreq(pha_data['id'][75079:113358] == north_data['id'])\n",
    "north_phot_use_1= (north_data['use_phot']==1)\n",
    "print scipy.stats.itemfreq((north_data['use_phot']==1))"
   ]
  },
  {
   "cell_type": "code",
   "execution_count": 3,
   "metadata": {
    "collapsed": true
   },
   "outputs": [],
   "source": [
    "def cutter (a, a_err, b, b_err, c, c_err): \n",
    "    return (((magfunc(a, a_err)- magfunc(b, b_err) >(0.44 + (((magerrorfunc(a, a_err))**2) + ((magerrorfunc(b, b_err))**2))**.5)) & \n",
    "(magfunc(c, c_err)- magfunc(b, b_err) >(0.44 + (((magerrorfunc(c, c_err))**2) + ((magerrorfunc(b, b_err))**2))**.5))) & north_phot_use_1 & ((a>=0)& (b>=0) & (c>=0)) & (((a/a_err)>3)&((b/b_err)>3)&((c/c_err)>3)))\n",
    "#& (((a/a_err)>3)&((b/b_err)>3)&((c/c_err)>3))"
   ]
  },
  {
   "cell_type": "code",
   "execution_count": 4,
   "metadata": {
    "collapsed": false
   },
   "outputs": [
    {
     "name": "stderr",
     "output_type": "stream",
     "text": [
      "C:\\Anaconda\\lib\\site-packages\\IPython\\kernel\\__main__.py:24: RuntimeWarning: invalid value encountered in log10\n",
      "C:\\Anaconda\\lib\\site-packages\\IPython\\kernel\\__main__.py:3: RuntimeWarning: invalid value encountered in greater\n",
      "  app.launch_new_instance()\n"
     ]
    },
    {
     "name": "stdout",
     "output_type": "stream",
     "text": [
      "north_jhk000 6\n",
      "north_jhk010 47\n",
      "north_jhk100 5\n",
      "north_jhk110 27\n"
     ]
    },
    {
     "name": "stderr",
     "output_type": "stream",
     "text": [
      "C:\\Anaconda\\lib\\site-packages\\IPython\\kernel\\__main__.py:22: RuntimeWarning: invalid value encountered in log10\n"
     ]
    }
   ],
   "source": [
    "###jhk selection###\n",
    "afils = [north_data['f_f125w'],north_data['e_f125w'],north_data['f_j'], north_data['e_j']]\n",
    "bfils= [north_data['f_f160w'], north_data['e_f160w'], north_data['f_h'], north_data['e_h']]\n",
    "cfils= [north_data['f_ks'], north_data['e_ks']]\n",
    "\n",
    "for a in range(0,2):\n",
    "    for b in range (0,2):\n",
    "        for c in range (0,1):\n",
    "            globals()['north_jhk%d%d%d' %(a,b,c)] = (cutter(afils[2*a], afils[1+(2*a)], bfils[2*b], bfils[1+(2*b)], cfils[2*c], cfils[1+(2*c)]))\n",
    "\n",
    "for a in range(0,2):\n",
    "    for b in range (0,2):\n",
    "        for c in range (0,1):\n",
    "            print \"north_jhk%d%d%d\"%(a,b,c), np.count_nonzero((globals()['north_jhk%d%d%d' %(a,b,c)])==1)"
   ]
  },
  {
   "cell_type": "code",
   "execution_count": 5,
   "metadata": {
    "collapsed": false
   },
   "outputs": [
    {
     "name": "stdout",
     "output_type": "stream",
     "text": [
      "[ 4732  5883  7721 11360 23540 34719]\n"
     ]
    }
   ],
   "source": [
    "print north_data['id'][north_jhk000]"
   ]
  },
  {
   "cell_type": "code",
   "execution_count": 6,
   "metadata": {
    "collapsed": false
   },
   "outputs": [
    {
     "name": "stderr",
     "output_type": "stream",
     "text": [
      "C:\\Anaconda\\lib\\site-packages\\IPython\\kernel\\__main__.py:24: RuntimeWarning: invalid value encountered in log10\n",
      "C:\\Anaconda\\lib\\site-packages\\IPython\\kernel\\__main__.py:22: RuntimeWarning: invalid value encountered in log10\n",
      "C:\\Anaconda\\lib\\site-packages\\IPython\\kernel\\__main__.py:3: RuntimeWarning: invalid value encountered in greater\n",
      "  app.launch_new_instance()\n"
     ]
    },
    {
     "name": "stdout",
     "output_type": "stream",
     "text": [
      "north_ijh000 38\n",
      "north_ijh001 4\n",
      "north_ijh010 77\n",
      "north_ijh011 7\n",
      "north_ijh100 63\n",
      "north_ijh101 4\n",
      "north_ijh110 230\n",
      "north_ijh111 6\n"
     ]
    }
   ],
   "source": [
    "###ijh selection###\n",
    "bfils = [north_data['f_f125w'],north_data['e_f125w'],north_data['f_j'], north_data['e_j']]\n",
    "cfils= [north_data['f_f160w'], north_data['e_f160w'], north_data['f_h'], north_data['e_h']]\n",
    "afils= [north_data['f_i'], north_data['e_i'], north_data['f_F775W'], north_data['e_F775W']]\n",
    "\n",
    "for a in range(0,2):\n",
    "    for b in range (0,2):\n",
    "        for c in range (0,2):\n",
    "            globals()['north_ijh%d%d%d' %(a,b,c)] = (cutter(afils[2*a], afils[1+(2*a)], bfils[2*b], bfils[1+(2*b)], cfils[2*c], cfils[1+(2*c)]))\n",
    "\n",
    "for a in range(0,2):\n",
    "    for b in range (0,2):\n",
    "        for c in range (0,2):\n",
    "            print \"north_ijh%d%d%d\"%(a,b,c), np.count_nonzero((globals()['north_ijh%d%d%d' %(a,b,c)])==1)"
   ]
  },
  {
   "cell_type": "code",
   "execution_count": 7,
   "metadata": {
    "collapsed": false
   },
   "outputs": [
    {
     "name": "stdout",
     "output_type": "stream",
     "text": [
      "[  595  2667  3315  3831  4013  4022  4259  5687  6459  7300 10639 13728\n",
      " 13876 13998 15722 16597 18360 18865 19150 19388 19406 22638 24346 24427\n",
      " 24524 24621 26710 27302 28478 28615 28620 29185 29570 29675 34179 35075\n",
      " 35396 36852 36886]\n"
     ]
    }
   ],
   "source": [
    "print north_data['id'][north_ijh000 | north_ijh001]"
   ]
  },
  {
   "cell_type": "code",
   "execution_count": 8,
   "metadata": {
    "collapsed": false
   },
   "outputs": [
    {
     "name": "stderr",
     "output_type": "stream",
     "text": [
      "C:\\Anaconda\\lib\\site-packages\\IPython\\kernel\\__main__.py:24: RuntimeWarning: invalid value encountered in log10\n",
      "C:\\Anaconda\\lib\\site-packages\\IPython\\kernel\\__main__.py:22: RuntimeWarning: invalid value encountered in log10\n",
      "C:\\Anaconda\\lib\\site-packages\\IPython\\kernel\\__main__.py:3: RuntimeWarning: invalid value encountered in greater\n",
      "  app.launch_new_instance()\n"
     ]
    },
    {
     "name": "stdout",
     "output_type": "stream",
     "text": [
      "north_vz000 266\n",
      "north_vz001 16\n",
      "north_vz002 49\n",
      "north_vz003 213\n",
      "north_vz004 10\n",
      "north_vz010 26\n",
      "north_vz011 5\n",
      "north_vz012 11\n",
      "north_vz013 37\n",
      "north_vz014 4\n",
      "north_vz100 347\n",
      "north_vz101 16\n",
      "north_vz102 57\n",
      "north_vz103 264\n",
      "north_vz104 10\n",
      "north_vz110 21\n",
      "north_vz111 5\n",
      "north_vz112 9\n",
      "north_vz113 39\n",
      "north_vz114 4\n"
     ]
    }
   ],
   "source": [
    "###vz jhk selection###\n",
    "bfils = [north_data['f_z'],north_data['e_z'],north_data['f_F850LP'], north_data['e_F850LP']]\n",
    "cfils= [north_data['f_f125w'],north_data['e_f125w'],north_data['f_j'], north_data['e_j'], north_data['f_f140w'], north_data['e_f140w'],north_data['f_f160w'], north_data['e_f160w'], north_data['f_h'], north_data['e_h']]\n",
    "afils= [north_data['f_v'], north_data['e_v'], north_data['f_F606W'], north_data['e_F606W']]\n",
    "\n",
    "for a in range(0,2):\n",
    "    for b in range (0,2):\n",
    "        for c in range (0,5):\n",
    "            globals()['north_vz%d%d%d' %(a,b,c)] = (cutter(afils[2*a], afils[1+(2*a)], bfils[2*b], bfils[1+(2*b)], cfils[2*c], cfils[1+(2*c)]))\n",
    "\n",
    "for a in range(0,2):\n",
    "    for b in range (0,2):\n",
    "        for c in range (0,5):\n",
    "            print \"north_vz%d%d%d\"%(a,b,c), np.count_nonzero((globals()['north_vz%d%d%d' %(a,b,c)])==1)"
   ]
  },
  {
   "cell_type": "code",
   "execution_count": 12,
   "metadata": {
    "collapsed": false
   },
   "outputs": [
    {
     "name": "stdout",
     "output_type": "stream",
     "text": [
      "[ 1928  3646  3715  4259  4393  4650  5080  6373  6459  7089  7817  9189\n",
      "  9296 12014 12769 14392 16009 16651 19405 19603 19748 20585 23343 23492\n",
      " 23685 24121 24964 25196 26011 26804 27161 27884 28439 29329 29828 31075\n",
      " 32166 33408 34570 36769 37665]\n"
     ]
    }
   ],
   "source": [
    "print north_data['id'][north_vz110|north_vz112|north_vz113]"
   ]
  },
  {
   "cell_type": "code",
   "execution_count": 13,
   "metadata": {
    "collapsed": false
   },
   "outputs": [
    {
     "name": "stderr",
     "output_type": "stream",
     "text": [
      "C:\\Anaconda\\lib\\site-packages\\IPython\\kernel\\__main__.py:24: RuntimeWarning: invalid value encountered in log10\n",
      "C:\\Anaconda\\lib\\site-packages\\IPython\\kernel\\__main__.py:22: RuntimeWarning: invalid value encountered in log10\n"
     ]
    },
    {
     "name": "stdout",
     "output_type": "stream",
     "text": [
      "north_vij000 103\n",
      "north_vij001 2\n",
      "north_vij010 22\n",
      "north_vij011 8\n",
      "north_vij100 170\n",
      "north_vij101 2\n",
      "north_vij110 17\n",
      "north_vij111 6\n"
     ]
    },
    {
     "name": "stderr",
     "output_type": "stream",
     "text": [
      "C:\\Anaconda\\lib\\site-packages\\IPython\\kernel\\__main__.py:3: RuntimeWarning: invalid value encountered in greater\n",
      "  app.launch_new_instance()\n"
     ]
    }
   ],
   "source": [
    "###vij selection###\n",
    "cfils = [north_data['f_f125w'],north_data['e_f125w'],north_data['f_j'], north_data['e_j']]\n",
    "bfils= [north_data['f_i'], north_data['e_i'], north_data['f_F775W'], north_data['e_F775W']]\n",
    "afils= [north_data['f_v'], north_data['e_v'], north_data['f_F606W'], north_data['e_F606W']]\n",
    "\n",
    "for a in range(0,2):\n",
    "    for b in range (0,2):\n",
    "        for c in range (0,2):\n",
    "            globals()['north_vij%d%d%d' %(a,b,c)] = (cutter(afils[2*a], afils[1+(2*a)], bfils[2*b], bfils[1+(2*b)], cfils[2*c], cfils[1+(2*c)]))\n",
    "\n",
    "for a in range(0,2):\n",
    "    for b in range (0,2):\n",
    "        for c in range (0,2):\n",
    "            print \"north_vij%d%d%d\"%(a,b,c), np.count_nonzero((globals()['north_vij%d%d%d' %(a,b,c)])==1)"
   ]
  },
  {
   "cell_type": "code",
   "execution_count": 14,
   "metadata": {
    "collapsed": false
   },
   "outputs": [
    {
     "name": "stdout",
     "output_type": "stream",
     "text": [
      "[  320  1955  6694  8380 10347 13114 15232 17121 18230 18613 19182 21776\n",
      " 22717 24411 26451 33957 36716]\n"
     ]
    }
   ],
   "source": [
    "print north_data['id'][north_vij110]"
   ]
  },
  {
   "cell_type": "code",
   "execution_count": 15,
   "metadata": {
    "collapsed": false
   },
   "outputs": [
    {
     "name": "stderr",
     "output_type": "stream",
     "text": [
      "C:\\Anaconda\\lib\\site-packages\\IPython\\kernel\\__main__.py:24: RuntimeWarning: invalid value encountered in log10\n",
      "C:\\Anaconda\\lib\\site-packages\\IPython\\kernel\\__main__.py:22: RuntimeWarning: invalid value encountered in log10\n",
      "C:\\Anaconda\\lib\\site-packages\\IPython\\kernel\\__main__.py:3: RuntimeWarning: invalid value encountered in greater\n",
      "  app.launch_new_instance()\n"
     ]
    },
    {
     "name": "stdout",
     "output_type": "stream",
     "text": [
      "north_ihk000 12\n",
      "north_ihk010 45\n",
      "north_ihk100 12\n",
      "north_ihk110 58\n"
     ]
    }
   ],
   "source": [
    "###ihk selection###\n",
    "bfils = [north_data['f_f160w'], north_data['e_f160w'], north_data['f_h'], north_data['e_h']]\n",
    "cfils= [north_data['f_ks'], north_data['e_ks']]\n",
    "afils= [north_data['f_i'], north_data['e_i'], north_data['f_F775W'], north_data['e_F775W']]\n",
    "\n",
    "for a in range(0,2):\n",
    "    for b in range (0,2):\n",
    "        for c in range (0,1):\n",
    "            globals()['north_ihk%d%d%d' %(a,b,c)] = (cutter(afils[2*a], afils[1+(2*a)], bfils[2*b], bfils[1+(2*b)], cfils[2*c], cfils[1+(2*c)]))\n",
    "\n",
    "for a in range(0,2):\n",
    "    for b in range (0,2):\n",
    "        for c in range (0,1):\n",
    "            print \"north_ihk%d%d%d\"%(a,b,c), np.count_nonzero((globals()['north_ihk%d%d%d' %(a,b,c)])==1)"
   ]
  },
  {
   "cell_type": "code",
   "execution_count": 18,
   "metadata": {
    "collapsed": false
   },
   "outputs": [
    {
     "name": "stdout",
     "output_type": "stream",
     "text": [
      "[  903  4732  5883  7585  7721 11360 13789 23540 26328 27635 34719 35957]\n"
     ]
    }
   ],
   "source": [
    "print north_data['id'][north_ihk100|north_ihk000]"
   ]
  },
  {
   "cell_type": "code",
   "execution_count": null,
   "metadata": {
    "collapsed": true
   },
   "outputs": [],
   "source": []
  }
 ],
 "metadata": {
  "kernelspec": {
   "display_name": "Python 2",
   "language": "python",
   "name": "python2"
  },
  "language_info": {
   "codemirror_mode": {
    "name": "ipython",
    "version": 2
   },
   "file_extension": ".py",
   "mimetype": "text/x-python",
   "name": "python",
   "nbconvert_exporter": "python",
   "pygments_lexer": "ipython2",
   "version": "2.7.7"
  }
 },
 "nbformat": 4,
 "nbformat_minor": 0
}
