{
 "cells": [
  {
   "cell_type": "code",
   "execution_count": 1,
   "metadata": {
    "collapsed": true
   },
   "outputs": [],
   "source": [
    "import sklearn"
   ]
  },
  {
   "cell_type": "code",
   "execution_count": 2,
   "metadata": {
    "collapsed": false
   },
   "outputs": [
    {
     "name": "stderr",
     "output_type": "stream",
     "text": [
      "WARNING: AstropyDeprecationWarning: Config parameter 'enabled_record_valued_keyword_cards' in section [io.fits] of the file 'C:\\Users\\rohan naidu\\.astropy\\config\\astropy.cfg' is deprecated. Use 'enable_record_valued_keyword_cards' in section [io.fits] instead. [astropy.config.configuration]\n",
      "WARNING:astropy:AstropyDeprecationWarning: Config parameter 'enabled_record_valued_keyword_cards' in section [io.fits] of the file 'C:\\Users\\rohan naidu\\.astropy\\config\\astropy.cfg' is deprecated. Use 'enable_record_valued_keyword_cards' in section [io.fits] instead.\n"
     ]
    }
   ],
   "source": [
    "from sklearn.cross_validation import train_test_split\n",
    "from sklearn.preprocessing import StandardScaler\n",
    "from sklearn.datasets import make_moons, make_circles, make_classification\n",
    "from sklearn.neighbors import KNeighborsClassifier\n",
    "from sklearn.svm import SVC\n",
    "from sklearn.tree import DecisionTreeClassifier\n",
    "from sklearn.ensemble import RandomForestClassifier, AdaBoostClassifier\n",
    "from sklearn.naive_bayes import GaussianNB\n",
    "from sklearn.discriminant_analysis import LinearDiscriminantAnalysis\n",
    "from sklearn.discriminant_analysis import QuadraticDiscriminantAnalysis\n",
    "from sklearn.metrics import confusion_matrix\n",
    "from __future__ import division\n",
    "import glob\n",
    "import os\n",
    "import numpy as np\n",
    "import matplotlib.pyplot as plt\n",
    "from astropy.io import fits\n",
    "import scipy\n",
    "from scipy import stats\n",
    "import astropy.io.ascii as ascii\n",
    "from astropy.io import fits\n",
    "import itertools\n",
    "import operator\n",
    "\n",
    "aegis_grism = fits.open('C:/Users/rohan naidu/Desktop/astro/aegis_3dhst_v4.1.5_catalogs/aegis_3dhst.v4.1.5.zfit.concat.fits', memmap=True)[1].data\n",
    "cosmos_grism = fits.open('C:/Users/rohan naidu/Desktop/astro/cosmos_3dhst_v4.1.5_catalogs/cosmos_3dhst.v4.1.5.zfit.concat.fits', memmap=True)[1].data\n",
    "goodsn_grism = fits.open('C:/Users/rohan naidu/Desktop/astro/goodsn_3dhst_v4.1.5_catalogs/goodsn_3dhst.v4.1.5.zfit.concat.fits', memmap=True)[1].data\n",
    "goodss_grism = fits.open('C:/Users/rohan naidu/Desktop/astro/goodss_3dhst_v4.1.5_catalogs/goodss_3dhst.v4.1.5.zfit.concat.fits', memmap=True)[1].data\n",
    "uds_grism = fits.open('C:/Users/rohan naidu/Desktop/astro/uds_3dhst_v4.1.5_catalogs/uds_3dhst.v4.1.5.zfit.concat.fits', memmap=True)[1].data\n",
    "\n",
    "grism_id = np.concatenate((aegis_grism['grism_id'], \\\n",
    "\n",
    "cosmos_grism['grism_id'], \\\n",
    "\n",
    "goodsn_grism['grism_id'], \\\n",
    "\n",
    "goodss_grism['grism_id'], \\\n",
    "\n",
    "uds_grism['grism_id']))\n",
    "\n",
    "\n",
    "z_max_grism = np.concatenate((aegis_grism['z_max_grism'], \\\n",
    "\n",
    "cosmos_grism['z_max_grism'], \\\n",
    "\n",
    "goodsn_grism['z_max_grism'], \\\n",
    "\n",
    "goodss_grism['z_max_grism'], \\\n",
    "\n",
    "uds_grism['z_max_grism']))\n",
    "\n",
    "z_peak_phot = np.concatenate((aegis_grism['z_peak_phot'], \\\n",
    "cosmos_grism['z_peak_phot'], \\\n",
    "goodsn_grism['z_peak_phot'], \\\n",
    "goodss_grism['z_peak_phot'], \\\n",
    "uds_grism['z_peak_phot']))\n",
    "\n",
    "delta_z = ((z_peak_phot - z_max_grism)/(z_peak_phot))"
   ]
  },
  {
   "cell_type": "code",
   "execution_count": 3,
   "metadata": {
    "collapsed": false
   },
   "outputs": [],
   "source": [
    "def find_nearest(array,value):\n",
    "    idx = (np.abs(array-value)).argmin()\n",
    "    return idx\n",
    "\n",
    "def wavelength_window(inp_id, wavelength_arr):\n",
    "    return find_nearest(wavelength_arr, ((z_max_grism[grism_id==inp_id]) + 1)*5000 )\n",
    "\n",
    "def create_stamp(obj_grism_id):\n",
    "    twod = fits.open((obj_grism_id+\".2D.fits\"), memmap=True)\n",
    "    zfit = fits.open((obj_grism_id+ \".new_zfit.fits\"), memmap=True)\n",
    "    science = twod[5].data\n",
    "    contam = twod[8].data\n",
    "    wavelength = twod[9].data\n",
    "    centre_stamp = wavelength_window(obj_grism_id, wavelength)\n",
    "    \n",
    "    #have to think about lines on edge of grism\n",
    "    stamp_side = int(np.shape(science)[0])\n",
    "    edge_flag = 0\n",
    "    left_window = centre_stamp-stamp_side/2\n",
    "    right_window = centre_stamp + stamp_side/2\n",
    "    \n",
    "    if left_window<0:\n",
    "        left_window = 0\n",
    "        edge_flag = 1\n",
    "    \n",
    "    if right_window> int(np.shape(science)[1]) :\n",
    "        right_window = int(np.shape(science)[1])\n",
    "        edge_flag=1\n",
    "\n",
    "\n",
    "    img_array = (science-(contam+ (zfit[2].data) + (zfit[1].data)))\n",
    "    \n",
    "    return (science[0::, left_window:right_window], contam[0::, left_window:right_window], img_array[0::, left_window:right_window])\n",
    "\n",
    "creator = np.vectorize(create_stamp)"
   ]
  },
  {
   "cell_type": "code",
   "execution_count": 4,
   "metadata": {
    "collapsed": true
   },
   "outputs": [],
   "source": [
    "h = .02  # step size in the mesh\n",
    "names = [\"Nearest Neighbors\", \"Linear SVM\", \"RBF SVM\", \"Decision Tree\",\n",
    "         \"Random Forest\", \"AdaBoost\", \"Naive Bayes\", \"Linear Discriminant Analysis\",\n",
    "         \"Quadratic Discriminant Analysis\"]\n",
    "classifiers = [\n",
    "    KNeighborsClassifier(3),\n",
    "    SVC(kernel=\"linear\", C=0.025),\n",
    "    SVC(gamma=2, C=1),\n",
    "    DecisionTreeClassifier(max_depth=5),\n",
    "    RandomForestClassifier(max_depth=5, n_estimators=10, max_features=1),\n",
    "    AdaBoostClassifier(),\n",
    "    GaussianNB(),\n",
    "    LinearDiscriminantAnalysis(),\n",
    "    QuadraticDiscriminantAnalysis()]\n",
    "\n",
    "\n",
    "def prep_dataset(params, truth_arr):\n",
    "    truth = np.array(truth_arr)\n",
    "    dataset_arr = []\n",
    "    for x in range(1, len(params)+1):\n",
    "        for indx in itertools.combinations(params,x):\n",
    "            inter = (np.array(indx)).T\n",
    "            #print inter\n",
    "            #print dataset_arr\n",
    "            #print (inter, truth)\n",
    "            dataset_arr.append(tuple((inter, truth)))\n",
    "    return dataset_arr\n",
    "\n",
    "def prep_dataset_labels(labels):\n",
    "    dataset_labels_arr = []\n",
    "    for x in range(1, len(labels)+1):\n",
    "        for indx in itertools.combinations(labels,x):\n",
    "            dataset_labels_arr.append(indx)\n",
    "    return dataset_labels_arr"
   ]
  },
  {
   "cell_type": "code",
   "execution_count": 5,
   "metadata": {
    "collapsed": false
   },
   "outputs": [],
   "source": [
    "os.chdir(\"C:/Users/rohan naidu/Desktop/astro/stamp_mosaics/one/\")\n",
    "obj_list = (np.unique(np.array([x.split(\".\")[0] for x in glob.glob(\"*.new_zfit.fits\")])))\n",
    "\n",
    "frac_neg_pix = np.zeros(len(obj_list))\n",
    "mean_pix = np.zeros(len(obj_list))\n",
    "median_pix = np.zeros(len(obj_list))\n",
    "rms_pix = np.zeros(len(obj_list))\n",
    "frac_flagged_pix = np.zeros(len(obj_list))\n",
    "max_img_pix = np.zeros(len(obj_list))\n",
    "std_img_pix = np.zeros(len(obj_list))\n",
    "max_contam_pix = np.zeros(len(obj_list))\n",
    "mean_contam_pix = np.zeros(len(obj_list))\n",
    "median_contam_pix = np.zeros(len(obj_list))\n",
    "rms_contam_pix = np.zeros(len(obj_list))\n",
    "std_contam_pix = np.zeros(len(obj_list))\n",
    "max_science_pix= np.zeros(len(obj_list))\n",
    "mean_science_pix = np.zeros(len(obj_list))\n",
    "median_science_pix = np.zeros(len(obj_list))\n",
    "rms_science_pix = np.zeros(len(obj_list))\n",
    "std_science_pix = np.zeros(len(obj_list))\n",
    "min_img_pix = np.zeros(len(obj_list))\n",
    "range_img_pix = np.zeros(len(obj_list))\n",
    "min_contam_pix = np.zeros(len(obj_list))\n",
    "range_contam_pix = np.zeros(len(obj_list))\n",
    "min_science_pix = np.zeros(len(obj_list))\n",
    "range_science_pix = np.zeros(len(obj_list))\n",
    "\n",
    "\n",
    "for ind in range(0, len(obj_list)):\n",
    "    science = ((create_stamp(obj_list[ind])))[0]\n",
    "    contam = ((create_stamp(obj_list[ind])))[1]\n",
    "    img =((create_stamp(obj_list[ind])))[2]\n",
    "    \n",
    "    frac_neg_pix[ind] = np.count_nonzero(img<0)/(int(img.shape[0]) * int(img.shape[1]))\n",
    "    mean_pix[ind] = np.mean(img)\n",
    "    median_pix[ind] = np.median(img)\n",
    "    rms_pix[ind] = (np.mean(np.square(img)))**0.5\n",
    "    frac_flagged_pix[ind] = np.count_nonzero(img==0)/(int(img.shape[0]) * int(img.shape[1]))\n",
    "    max_img_pix[ind] = np.max(img)\n",
    "    std_img_pix[ind] = np.std(img)\n",
    "    \n",
    "    min_img_pix[ind] = np.min(img)\n",
    "    range_img_pix[ind] = np.max(img) - np.min(img)\n",
    "    \n",
    "    \n",
    "    \n",
    "    max_contam_pix[ind] = np.max(contam)\n",
    "    mean_contam_pix[ind] = np.mean(contam)\n",
    "    median_contam_pix[ind] = np.median(contam) \n",
    "    rms_contam_pix[ind] = (np.mean(np.square(contam)))**0.5\n",
    "    std_contam_pix[ind] = np.std(contam)\n",
    "\n",
    "    \n",
    "    min_contam_pix[ind] = np.min(contam)\n",
    "    range_contam_pix[ind] = np.max(contam) - np.min(contam)\n",
    "    \n",
    "    \n",
    "    max_science_pix[ind] = np.max(science)\n",
    "    mean_science_pix[ind] = np.mean(science)\n",
    "    median_science_pix[ind] = np.median(science) \n",
    "    rms_science_pix[ind] = (np.mean(np.square(science)))**0.5\n",
    "    std_science_pix[ind] = np.std(science)\n",
    "    \n",
    "    min_science_pix[ind] = np.min(science)\n",
    "    range_science_pix[ind] = np.max(science) - np.min(science)\n",
    "    \n",
    "\n",
    "    \n",
    "del_z_pix = delta_z[np.array([True if x in obj_list else False for x in grism_id])]"
   ]
  },
  {
   "cell_type": "code",
   "execution_count": 6,
   "metadata": {
    "collapsed": true
   },
   "outputs": [],
   "source": [
    "os.chdir(\"C:/Users/rohan naidu/Desktop/astro/stamp_mosaics/zero/\")\n",
    "obj_list = (np.unique(np.array([x.split(\".\")[0] for x in glob.glob(\"*.new_zfit.fits\")])))\n",
    "\n",
    "frac_neg_zero = np.zeros(len(obj_list))\n",
    "mean_zero = np.zeros(len(obj_list))\n",
    "median_zero = np.zeros(len(obj_list))\n",
    "rms_zero = np.zeros(len(obj_list))\n",
    "frac_flagged_zero = np.zeros(len(obj_list))\n",
    "max_img_zero = np.zeros(len(obj_list))\n",
    "std_img_zero = np.zeros(len(obj_list))\n",
    "max_contam_zero = np.zeros(len(obj_list))\n",
    "mean_contam_zero = np.zeros(len(obj_list))\n",
    "median_contam_zero = np.zeros(len(obj_list))\n",
    "rms_contam_zero = np.zeros(len(obj_list))\n",
    "std_contam_zero = np.zeros(len(obj_list))\n",
    "max_science_zero= np.zeros(len(obj_list))\n",
    "mean_science_zero = np.zeros(len(obj_list))\n",
    "median_science_zero = np.zeros(len(obj_list))\n",
    "rms_science_zero = np.zeros(len(obj_list))\n",
    "std_science_zero = np.zeros(len(obj_list))\n",
    "min_img_zero = np.zeros(len(obj_list))\n",
    "range_img_zero = np.zeros(len(obj_list))\n",
    "min_contam_zero = np.zeros(len(obj_list))\n",
    "range_contam_zero = np.zeros(len(obj_list))\n",
    "min_science_zero = np.zeros(len(obj_list))\n",
    "range_science_zero = np.zeros(len(obj_list))\n",
    "\n",
    "for ind in range(0, len(obj_list)):\n",
    "    science = ((create_stamp(obj_list[ind])))[0]\n",
    "    contam = ((create_stamp(obj_list[ind])))[1]\n",
    "    img =((create_stamp(obj_list[ind])))[2]\n",
    "    \n",
    "    frac_neg_zero[ind] = np.count_nonzero(img<0)/(int(img.shape[0]) * int(img.shape[1]))\n",
    "    mean_zero[ind] = np.mean(img)\n",
    "    median_zero[ind] = np.median(img)\n",
    "    rms_zero[ind] = (np.mean(np.square(img)))**0.5\n",
    "    frac_flagged_zero[ind] = np.count_nonzero(img==0)/(int(img.shape[0]) * int(img.shape[1]))\n",
    "    max_img_zero[ind] = np.max(img)\n",
    "    std_img_zero[ind] = np.std(img)\n",
    "    \n",
    "    max_contam_zero[ind] = np.max(contam)\n",
    "    mean_contam_zero[ind] = np.mean(contam)\n",
    "    median_contam_zero[ind] = np.median(contam) \n",
    "    rms_contam_zero[ind] = (np.mean(np.square(contam)))**0.5\n",
    "    std_contam_zero[ind] = np.std(contam)\n",
    "    \n",
    "    max_science_zero[ind] = np.max(science)\n",
    "    mean_science_zero[ind] = np.mean(science)\n",
    "    median_science_zero[ind] = np.median(science) \n",
    "    rms_science_zero[ind] = (np.mean(np.square(science)))**0.5\n",
    "    std_science_zero[ind] = np.std(science)\n",
    "    \n",
    "    min_science_zero[ind] = np.min(science)\n",
    "    range_science_zero[ind] = np.max(science) - np.min(science)\n",
    "    min_contam_zero[ind] = np.min(contam)\n",
    "    range_contam_zero[ind] = np.max(contam) - np.min(contam)\n",
    "    min_img_zero[ind] = np.min(img)\n",
    "    range_img_zero[ind] = np.max(img) - np.min(img)\n",
    "\n",
    "\n",
    "del_z_zero = delta_z[np.array([True if x in obj_list else False for x in grism_id])]"
   ]
  },
  {
   "cell_type": "code",
   "execution_count": 7,
   "metadata": {
    "collapsed": false
   },
   "outputs": [],
   "source": [
    "len_good = len(del_z_pix)\n",
    "len_bad = len(del_z_zero)\n",
    "known_flags = np.concatenate(([0]*len_bad, [1]*len_good))\n",
    "frac_neg = np.concatenate((frac_neg_zero , frac_neg_pix))\n",
    "mean = np.concatenate((mean_zero , mean_pix))\n",
    "median = np.concatenate((median_zero , median_pix))\n",
    "rms = np.concatenate((rms_zero , rms_pix))\n",
    "frac_flagged = np.concatenate((frac_flagged_zero , frac_flagged_pix))\n",
    "max_img = np.concatenate((max_img_zero , max_img_pix))\n",
    "std_img = np.concatenate((std_img_zero , std_img_pix))\n",
    "max_contam = np.concatenate((max_contam_zero , max_contam_pix))\n",
    "mean_contam = np.concatenate((mean_contam_zero , mean_contam_pix))\n",
    "median_contam = np.concatenate((median_contam_zero , median_contam_pix))\n",
    "rms_contam = np.concatenate((rms_contam_zero , rms_contam_pix))\n",
    "std_contam = np.concatenate((std_contam_zero , std_contam_pix))\n",
    "max_science= np.concatenate((max_science_zero , max_science_pix))\n",
    "mean_science = np.concatenate((mean_science_zero , mean_science_pix))\n",
    "median_science = np.concatenate((median_science_zero , median_science_pix))\n",
    "rms_science = np.concatenate((rms_science_zero , rms_science_pix))\n",
    "std_science = np.concatenate((std_science_zero , std_science_pix))\n",
    "del_z = np.concatenate((del_z_zero , del_z_pix))\n",
    "\n",
    "min_img = np.concatenate((min_img_zero, min_img_pix))\n",
    "range_img = np.concatenate((range_img_zero, range_img_pix ))\n",
    "min_contam = np.concatenate((min_contam_zero, min_contam_pix))\n",
    "range_contam = np.concatenate((range_contam_zero,range_contam_pix ))\n",
    "min_science = np.concatenate((min_science_zero,min_science_pix ))\n",
    "range_science = np.concatenate((range_science_zero,range_science_pix ))"
   ]
  },
  {
   "cell_type": "code",
   "execution_count": null,
   "metadata": {
    "collapsed": true
   },
   "outputs": [],
   "source": [
    "params_arr = [frac_neg, rms, max_img, max_contam, max_img-max_contam, rms_contam]"
   ]
  },
  {
   "cell_type": "code",
   "execution_count": 8,
   "metadata": {
    "collapsed": false
   },
   "outputs": [],
   "source": [
    "params_arr = [frac_neg,mean,median,rms,frac_flagged,max_img,std_img,max_contam,mean_contam,median_contam,\\\n",
    "                          rms_contam,std_contam,max_science, mean_science,median_science,rms_science,std_science,\\\n",
    "                         del_z, min_img, range_img, min_contam, range_contam, min_science, range_science]\n",
    "\n",
    "param_names_arr = [\"frac_neg\",\"mean\",\"median\",\"rms\",\"frac_flagged\",\"max_img\",\"std_img\",\"max_contam\",\\\n",
    " \"mean_contam\",\"median_contam\",\"rms_contam\",\"std_contam\",\"max_science\",\"mean_science\",\"median_science\",\"rms_science\",\"std_science\",\"del_z\",\\\n",
    "                  \"min_img\",\"range_img\",\"min_contam\",\"range_contam\",\"min_science\",\"range_science\"]\n",
    "\n",
    "#labels = prep_dataset_labels(param_names_arr)"
   ]
  },
  {
   "cell_type": "code",
   "execution_count": 10,
   "metadata": {
    "collapsed": false
   },
   "outputs": [],
   "source": [
    "import pickle\n",
    "with open(\"params_962_24.pickle\",'wb') as f:\n",
    "    pickle.dump(params_arr,f)"
   ]
  },
  {
   "cell_type": "code",
   "execution_count": 21,
   "metadata": {
    "collapsed": false
   },
   "outputs": [
    {
     "data": {
      "text/plain": [
       "'C:\\\\Users\\\\rohan naidu\\\\Desktop\\\\astro'"
      ]
     },
     "execution_count": 21,
     "metadata": {},
     "output_type": "execute_result"
    }
   ],
   "source": [
    "os.getcwd()"
   ]
  },
  {
   "cell_type": "code",
   "execution_count": 22,
   "metadata": {
    "collapsed": true
   },
   "outputs": [],
   "source": [
    "import pickle\n",
    "with open(\"truth_962_24.pickle\",'wb') as f:\n",
    "    pickle.dump(known_flags,f)"
   ]
  },
  {
   "cell_type": "code",
   "execution_count": 11,
   "metadata": {
    "collapsed": true
   },
   "outputs": [],
   "source": [
    "in_result = pickle.load(open( \"params_962_24.pickle\", \"rb\" ))"
   ]
  },
  {
   "cell_type": "code",
   "execution_count": 30,
   "metadata": {
    "collapsed": true
   },
   "outputs": [],
   "source": [
    "check_result = pickle.load(open( \"euler_joblib.pickle\", \"rb\" ))"
   ]
  },
  {
   "cell_type": "code",
   "execution_count": 31,
   "metadata": {
    "collapsed": false
   },
   "outputs": [
    {
     "data": {
      "text/plain": [
       "[[0.80215842472861909,\n",
       "  0.77297037016259473,\n",
       "  0.76216655914280107,\n",
       "  0.70817321627256835,\n",
       "  0.6897375482688658,\n",
       "  0.76217357156881993,\n",
       "  0.71572559909492961,\n",
       "  0.78053210288631458,\n",
       "  0.77082456780080966,\n",
       "  0.75785391714117423,\n",
       "  0.76544369956896952,\n",
       "  0.76976569147195495,\n",
       "  0.72000084149112231,\n",
       "  0.75568474002599273,\n",
       "  0.77405963367086472,\n",
       "  0.72758361149289874,\n",
       "  0.69840958177891221,\n",
       "  0.7102722691275607,\n",
       "  0.68327209147943491,\n",
       "  0.72760698624629505,\n",
       "  0.72865651267379128,\n",
       "  0.77513253485175726,\n",
       "  0.6757033463296962,\n",
       "  0.70163296027226907],\n",
       " [0.78810084803605318,\n",
       "  0.78269894252615635,\n",
       "  0.80542154030274982,\n",
       "  0.7989093340065262,\n",
       "  0.78055314016437127,\n",
       "  0.81082578328798638,\n",
       "  0.82594691126008613,\n",
       "  0.83244041775359268,\n",
       "  0.81946976709395714,\n",
       "  0.8421596402157957,\n",
       "  0.82809972604789017,\n",
       "  0.78271296737819418,\n",
       "  0.80433227679447983,\n",
       "  0.81620431404448679,\n",
       "  0.78704430918253809,\n",
       "  0.78164240367264126,\n",
       "  0.79674716931736367,\n",
       "  0.79243920226641607,\n",
       "  0.8043392892204988,\n",
       "  0.79565556833375406,\n",
       "  0.82919833945751875,\n",
       "  0.76111469523996522,\n",
       "  0.79136162613484429,\n",
       "  0.77945218927940307,\n",
       "  0.78918777406898355,\n",
       "  0.76972127944050195,\n",
       "  0.77298906996531191,\n",
       "  0.77946387665610128,\n",
       "  0.80646872925490631,\n",
       "  0.81728189017605857,\n",
       "  0.79892569633390376,\n",
       "  0.80971314502631997,\n",
       "  0.80648509158228388,\n",
       "  0.77947088908212014,\n",
       "  0.79892335885856403,\n",
       "  0.7956602432844333,\n",
       "  0.77081989285013042,\n",
       "  0.77407132104756293,\n",
       "  0.77622179836002725,\n",
       "  0.75568006507531349,\n",
       "  0.79027937505259316,\n",
       "  0.76973062934186043,\n",
       "  0.79890232158050734,\n",
       "  0.74489027890755755,\n",
       "  0.78054846521369203,\n",
       "  0.7611006703879275,\n",
       "  0.76432638635662398,\n",
       "  0.78055314016437127,\n",
       "  0.76000205697829881,\n",
       "  0.812955223322394,\n",
       "  0.80648041663160452,\n",
       "  0.79242985236505747,\n",
       "  0.81947444204463649,\n",
       "  0.8054192028274102,\n",
       "  0.77840032537656723,\n",
       "  0.77622647331070649,\n",
       "  0.79676820659542047,\n",
       "  0.77298673248997218,\n",
       "  0.762192271371537,\n",
       "  0.76864604078426968,\n",
       "  0.76650491337316384,\n",
       "  0.78487279459201709,\n",
       "  0.76649088852112612,\n",
       "  0.81405617420736209,\n",
       "  0.72869391227922553,\n",
       "  0.76650257589782433,\n",
       "  0.70817321627256835,\n",
       "  0.76002075678101599,\n",
       "  0.71465503538937658,\n",
       "  0.76326283507709003,\n",
       "  0.76975867904593609,\n",
       "  0.74382906510336322,\n",
       "  0.77410170822697821,\n",
       "  0.77085962993090429,\n",
       "  0.69843295653230864,\n",
       "  0.76434274868400132,\n",
       "  0.74273512664441388,\n",
       "  0.70924611745346078,\n",
       "  0.69519789066225357,\n",
       "  0.72005226594859417,\n",
       "  0.69195581236617953,\n",
       "  0.72004759099791493,\n",
       "  0.7222144306377567,\n",
       "  0.76868344038970382,\n",
       "  0.71139425729058559,\n",
       "  0.71789010125943176,\n",
       "  0.7610913204865688,\n",
       "  0.71464334801267848,\n",
       "  0.78377651865772813,\n",
       "  0.77407132104756293,\n",
       "  0.75677634100960234,\n",
       "  0.7697703664226343,\n",
       "  0.77193253111179683,\n",
       "  0.70164464764896728,\n",
       "  0.75784456723981564,\n",
       "  0.77729937449159914,\n",
       "  0.72866586257514987,\n",
       "  0.69732265574598185,\n",
       "  0.68429356820285547,\n",
       "  0.68327676643011415,\n",
       "  0.72003122867053748,\n",
       "  0.72002421624451862,\n",
       "  0.77513487232709699,\n",
       "  0.6757033463296962,\n",
       "  0.6994661206324273,\n",
       "  0.76325816012641068,\n",
       "  0.78487045711667736,\n",
       "  0.79135928865950467,\n",
       "  0.78487980701803595,\n",
       "  0.78703729675651923,\n",
       "  0.76867876543902458,\n",
       "  0.77405262124484586,\n",
       "  0.77080820547343221,\n",
       "  0.77189980645704193,\n",
       "  0.76325114770039182,\n",
       "  0.74920525838452412,\n",
       "  0.76434742363468067,\n",
       "  0.73946499864426429,\n",
       "  0.76217824651949928,\n",
       "  0.77082223032547015,\n",
       "  0.77838863799986902,\n",
       "  0.74703841874468224,\n",
       "  0.76647452619374867,\n",
       "  0.77191149383374003,\n",
       "  0.76867409048834534,\n",
       "  0.75895720550148194,\n",
       "  0.76435209858535991,\n",
       "  0.77409469580095935,\n",
       "  0.70165399755032576,\n",
       "  0.7718974689817022,\n",
       "  0.75244967415593766,\n",
       "  0.71031668115901381,\n",
       "  0.71463399811131989,\n",
       "  0.72112049217880747,\n",
       "  0.70167269735304294,\n",
       "  0.71356109693042735,\n",
       "  0.71464101053733886,\n",
       "  0.77408300842426114,\n",
       "  0.75459313904238312,\n",
       "  0.70167970977906191,\n",
       "  0.7816143539685656,\n",
       "  0.77729937449159914,\n",
       "  0.77189279403102296,\n",
       "  0.7654320121922713,\n",
       "  0.78594803324824913,\n",
       "  0.76432404888128436,\n",
       "  0.78161669144390533,\n",
       "  0.76108898301122929,\n",
       "  0.75892681832206677,\n",
       "  0.7902840500032724,\n",
       "  0.78270128000149597,\n",
       "  0.78379288098510558,\n",
       "  0.77944751432872383,\n",
       "  0.78052976541097485,\n",
       "  0.78917842416762507,\n",
       "  0.77620309855731029,\n",
       "  0.76758482698007535,\n",
       "  0.7902840500032724,\n",
       "  0.77300075734201001,\n",
       "  0.76757547707871687,\n",
       "  0.77515357212981406,\n",
       "  0.7610913204865688,\n",
       "  0.74489495385823679,\n",
       "  0.75354127513954727,\n",
       "  0.7870559965592363,\n",
       "  0.75245201163127728,\n",
       "  0.77624283563808394,\n",
       "  0.7708292427514889,\n",
       "  0.7859527081989286,\n",
       "  0.77084794255420608,\n",
       "  0.75893149327274601,\n",
       "  0.76326517255242954,\n",
       "  0.78166344095069795,\n",
       "  0.75892681832206677,\n",
       "  0.76325582265107106,\n",
       "  0.75785859209185347,\n",
       "  0.74704075622002186,\n",
       "  0.74921227081054287,\n",
       "  0.76757781455405649,\n",
       "  0.75028984694211476,\n",
       "  0.76759417688143394,\n",
       "  0.75137911045038486,\n",
       "  0.78919946144568176,\n",
       "  0.73409114283844312,\n",
       "  0.74920525838452412,\n",
       "  0.76977504137331354,\n",
       "  0.76541798734023359,\n",
       "  0.77841435022860517,\n",
       "  0.77300075734201001,\n",
       "  0.7686694155376661,\n",
       "  0.7654413620936299,\n",
       "  0.79136630108552364,\n",
       "  0.75571278973006839,\n",
       "  0.77625452301478215,\n",
       "  0.7784073378025862,\n",
       "  0.79244621469243504,\n",
       "  0.77840266285190696,\n",
       "  0.77083391770216825,\n",
       "  0.76003478163305371,\n",
       "  0.76867409048834534,\n",
       "  0.77516058455583292,\n",
       "  0.76867876543902458,\n",
       "  0.7665306256019,\n",
       "  0.78490318177143226,\n",
       "  0.76003010668237447,\n",
       "  0.78922283619907807,\n",
       "  0.77084794255420608,\n",
       "  0.78379989341112455,\n",
       "  0.77948257645881835,\n",
       "  0.76974465419389826,\n",
       "  0.75352491281216993,\n",
       "  0.76757547707871687,\n",
       "  0.73837339766065468,\n",
       "  0.70058343384477295,\n",
       "  0.71567417463745753,\n",
       "  0.69840023187755373,\n",
       "  0.73730984638112074,\n",
       "  0.72324058231185662,\n",
       "  0.77298673248997218,\n",
       "  0.71999616654044307,\n",
       "  0.69623572971305148,\n",
       "  0.76325582265107106,\n",
       "  0.75459547651772274,\n",
       "  0.76324647274971258,\n",
       "  0.78379755593578482,\n",
       "  0.73945097379222646,\n",
       "  0.76434041120866181,\n",
       "  0.73622525782352999,\n",
       "  0.77839331295054837,\n",
       "  0.75027815956541666,\n",
       "  0.75999738202761957,\n",
       "  0.76866006563630762,\n",
       "  0.75891513094536855,\n",
       "  0.77188811908034372,\n",
       "  0.75783287986311754,\n",
       "  0.76974231671855864,\n",
       "  0.74702439389264441,\n",
       "  0.80108786102306628,\n",
       "  0.73191261582190315,\n",
       "  0.76866240311164713,\n",
       "  0.74594915523641225,\n",
       "  0.750294521892794,\n",
       "  0.71245780857011953,\n",
       "  0.73625330752760565,\n",
       "  0.72866352509981014,\n",
       "  0.77082456780080966,\n",
       "  0.71569521191551422,\n",
       "  0.73299720437949378,\n",
       "  0.72326161958991331,\n",
       "  0.68003936308471946,\n",
       "  0.72219339335970001,\n",
       "  0.72217936850766229,\n",
       "  0.7665002384224846,\n",
       "  0.72864015034641383,\n",
       "  0.68977962282497918,\n",
       "  0.69192542518676425,\n",
       "  0.74165053808682324,\n",
       "  0.747033743794003,\n",
       "  0.78920179892102138,\n",
       "  0.68760343328377882,\n",
       "  0.71783633932662005,\n",
       "  0.72435555804886254,\n",
       "  0.69948482043514437,\n",
       "  0.78703729675651923,\n",
       "  0.70268014922442568,\n",
       "  0.68975624807158287,\n",
       "  0.74379867792394783,\n",
       "  0.79028171252793289,\n",
       "  0.74918655858180694,\n",
       "  0.73839209746337175,\n",
       "  0.78703028433050026,\n",
       "  0.69191607528540577,\n",
       "  0.71243677129206284,\n",
       "  0.79784344525165252,\n",
       "  0.78810318551139291,\n",
       "  0.71242975886604398]]"
      ]
     },
     "execution_count": 31,
     "metadata": {},
     "output_type": "execute_result"
    }
   ],
   "source": [
    "check_result"
   ]
  },
  {
   "cell_type": "code",
   "execution_count": null,
   "metadata": {
    "collapsed": true
   },
   "outputs": [],
   "source": [
    "itertools.combinations(params_arr[0:5], )"
   ]
  },
  {
   "cell_type": "code",
   "execution_count": 36,
   "metadata": {
    "collapsed": false
   },
   "outputs": [
    {
     "name": "stdout",
     "output_type": "stream",
     "text": [
      "[ 0.91891892  0.91891892  0.92432432  0.92432432  0.92432432  0.92432432\n",
      "  0.92432432  0.92972973  0.93513514]\n",
      "0.789189189189\n"
     ]
    }
   ],
   "source": [
    "#param_names_arr = ['mean', 'max_img', 'rms_contam', 'rms_science']\n",
    "\n",
    "params_arr = [frac_neg,mean,median, max_img, max_contam,mean_contam,\\\n",
    "                          rms_contam, max_science, mean_science,median_science,\\\n",
    "                         del_z]\n",
    "\n",
    "datasets= [(prep_dataset(params_arr, known_flags))[-1]]\n",
    "#labels = [(prep_dataset_labels(param_names_arr))[-1]]\n",
    "\n",
    "\n",
    "#maxer_score = []\n",
    "max_score = 0\n",
    "score_arr = []\n",
    "index = -1\n",
    "result_arr = []    \n",
    "for ds in datasets:\n",
    "    index = index+1\n",
    "    #print param_names_arr[index]\n",
    "    inter_res_arr = []\n",
    "    X, y = ds\n",
    "    X = StandardScaler().fit_transform(X)\n",
    "    for x in range(0,1000):\n",
    "        X_train, X_test, y_train, y_test = train_test_split(X, y, test_size=.2)\n",
    "        #for name, clf in zip(names, classifiers):\n",
    "        #for clf in classifiers:\n",
    "        clf = AdaBoostClassifier()\n",
    "        clf.fit(X_train, y_train)\n",
    "        score = clf.score(X_test, y_test)\n",
    "        inter_res_arr.append(score)\n",
    "        #result_arr.append(tuple( (score, name, labels[index]) ))\n",
    "        #print score\n",
    "        score_arr.append(score)\n",
    "        #print \"Name:%s, Score: %s, Index: %d\"%(name, score, index)\n",
    "        #if score>=max_score:\n",
    "         #   print score\n",
    "        #   max_score = score\n",
    "        #print \"Score: %s\"%(score)\n",
    "\n",
    "    #print (np.sort(inter_res_arr))[-5:-1]\n",
    "\n",
    "        #result_arr.sort(key=lambda x: x[0])\n",
    "        #ans = result_arr[::-1]\n",
    "        #print ans[0:10]\n",
    "\n",
    "        #maxer_score.append(np.max(score_arr))\n",
    "        #if np.max(score_arr)>= np.max(maxer_score):\n",
    "        #    print np.max(score_arr)\n",
    "\n",
    "print np.sort(score_arr)[-10:-1]\n",
    "print np.min(score_arr)"
   ]
  },
  {
   "cell_type": "code",
   "execution_count": 37,
   "metadata": {
    "collapsed": true
   },
   "outputs": [],
   "source": [
    "X, y = (prep_dataset(params_arr, known_flags))[-1]"
   ]
  },
  {
   "cell_type": "code",
   "execution_count": 38,
   "metadata": {
    "collapsed": true
   },
   "outputs": [],
   "source": [
    "X = StandardScaler().fit_transform(X)"
   ]
  },
  {
   "cell_type": "code",
   "execution_count": 71,
   "metadata": {
    "collapsed": false
   },
   "outputs": [],
   "source": [
    "results_mean = []\n",
    "results_std = []\n",
    "for tv in range(2, 281):\n",
    "    clf= AdaBoostClassifier()\n",
    "    scores = sklearn.cross_validation.cross_val_score(clf, X, y, cv=tv)\n",
    "    results_mean.append(scores.mean())\n",
    "    results_std.append(scores.std()*2)\n",
    "    #print(\"Accuracy: %0.2f (+/- %0.2f)\" % (scores.mean(), scores.std() * 2))"
   ]
  },
  {
   "cell_type": "code",
   "execution_count": 74,
   "metadata": {
    "collapsed": true
   },
   "outputs": [],
   "source": [
    "%matplotlib inline"
   ]
  },
  {
   "cell_type": "code",
   "execution_count": 79,
   "metadata": {
    "collapsed": false
   },
   "outputs": [
    {
     "data": {
      "text/plain": [
       "<matplotlib.collections.PathCollection at 0xb5739e10>"
      ]
     },
     "execution_count": 79,
     "metadata": {},
     "output_type": "execute_result"
    },
    {
     "name": "stderr",
     "output_type": "stream",
     "text": [
      "C:\\Anaconda\\lib\\site-packages\\matplotlib\\collections.py:548: FutureWarning: elementwise comparison failed; returning scalar instead, but in the future will perform elementwise comparison\n",
      "  if self._edgecolors == 'face':\n"
     ]
    },
    {
     "data": {
      "image/png": "[encoded data removed]",
      "text/plain": [
       "<matplotlib.figure.Figure at 0xbb61d128>"
      ]
     },
     "metadata": {},
     "output_type": "display_data"
    }
   ],
   "source": [
    "plt.scatter(range(2,281), results_mean)"
   ]
  },
  {
   "cell_type": "code",
   "execution_count": 76,
   "metadata": {
    "collapsed": false
   },
   "outputs": [
    {
     "data": {
      "text/plain": [
       "[<matplotlib.lines.Line2D at 0xa9b740f0>]"
      ]
     },
     "execution_count": 76,
     "metadata": {},
     "output_type": "execute_result"
    },
    {
     "data": {
      "image/png": "[encoded data removed]",
      "text/plain": [
       "<matplotlib.figure.Figure at 0x8e0c7ac8>"
      ]
     },
     "metadata": {},
     "output_type": "display_data"
    }
   ],
   "source": [
    "plt.plot(range(2,281), results_std)"
   ]
  },
  {
   "cell_type": "code",
   "execution_count": 78,
   "metadata": {
    "collapsed": false
   },
   "outputs": [
    {
     "data": {
      "text/plain": [
       "0.87523767341243697"
      ]
     },
     "execution_count": 78,
     "metadata": {},
     "output_type": "execute_result"
    }
   ],
   "source": [
    "np.mean(results_mean)"
   ]
  },
  {
   "cell_type": "code",
   "execution_count": null,
   "metadata": {
    "collapsed": true
   },
   "outputs": [],
   "source": []
  }
 ],
 "metadata": {
  "kernelspec": {
   "display_name": "Python 2",
   "language": "python",
   "name": "python2"
  },
  "language_info": {
   "codemirror_mode": {
    "name": "ipython",
    "version": 2
   },
   "file_extension": ".py",
   "mimetype": "text/x-python",
   "name": "python",
   "nbconvert_exporter": "python",
   "pygments_lexer": "ipython2",
   "version": "2.7.11"
  }
 },
 "nbformat": 4,
 "nbformat_minor": 0
}
