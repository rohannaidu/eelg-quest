{
 "cells": [
  {
   "cell_type": "code",
   "execution_count": 30,
   "metadata": {
    "collapsed": true
   },
   "outputs": [],
   "source": [
    "from sklearn.cross_validation import train_test_split\n",
    "from sklearn.preprocessing import StandardScaler\n",
    "from sklearn.datasets import make_moons, make_circles, make_classification\n",
    "from sklearn.neighbors import KNeighborsClassifier\n",
    "from sklearn.svm import SVC\n",
    "from sklearn.tree import DecisionTreeClassifier\n",
    "from sklearn.ensemble import RandomForestClassifier, AdaBoostClassifier\n",
    "from sklearn.naive_bayes import GaussianNB\n",
    "from sklearn.discriminant_analysis import LinearDiscriminantAnalysis\n",
    "from sklearn.discriminant_analysis import QuadraticDiscriminantAnalysis"
   ]
  },
  {
   "cell_type": "code",
   "execution_count": 3,
   "metadata": {
    "collapsed": true
   },
   "outputs": [],
   "source": [
    "from __future__ import division\n",
    "from joblib import Parallel, delayed\n",
    "import itertools\n",
    "import numpy as np\n",
    "import sklearn\n",
    "import pickle\n",
    "from sklearn.preprocessing import StandardScaler\n",
    "from sklearn.ensemble import AdaBoostClassifier\n",
    "from sklearn.grid_search import GridSearchCV"
   ]
  },
  {
   "cell_type": "code",
   "execution_count": 4,
   "metadata": {
    "collapsed": true
   },
   "outputs": [],
   "source": [
    "params_arr = pickle.load(open( \"params_962_24.pickle\", \"rb\" ))\n",
    "known_flags = pickle.load(open( \"truth_962_24.pickle\", \"rb\" ))"
   ]
  },
  {
   "cell_type": "code",
   "execution_count": 14,
   "metadata": {
    "collapsed": false
   },
   "outputs": [],
   "source": [
    "X, y = (np.array(params_arr)).T, known_flags\n",
    "X = StandardScaler().fit_transform(X)\n",
    "clf = AdaBoostClassifier()\n",
    "scores = sklearn.cross_validation.cross_val_score(clf, X, y, cv=10)\n",
    "score = np.mean(scores)"
   ]
  },
  {
   "cell_type": "code",
   "execution_count": 15,
   "metadata": {
    "collapsed": false
   },
   "outputs": [
    {
     "name": "stdout",
     "output_type": "stream",
     "text": [
      "0.867060815852\n"
     ]
    }
   ],
   "source": [
    "print score"
   ]
  },
  {
   "cell_type": "code",
   "execution_count": 25,
   "metadata": {
    "collapsed": false
   },
   "outputs": [
    {
     "name": "stdout",
     "output_type": "stream",
     "text": [
      "The best parameters are {'n_estimators': 106} with a score of 0.88865\n"
     ]
    }
   ],
   "source": [
    "n_estimators_range = np.arange(1000)[90:110]\n",
    "param_grid = dict(n_estimators=n_estimators_range)\n",
    "grid = GridSearchCV(AdaBoostClassifier(), param_grid=param_grid, cv=10)\n",
    "grid.fit(X, y)\n",
    "\n",
    "print(\"The best parameters are %s with a score of %0.5f\"\n",
    "      % (grid.best_params_, grid.best_score_))"
   ]
  },
  {
   "cell_type": "code",
   "execution_count": 26,
   "metadata": {
    "collapsed": false
   },
   "outputs": [
    {
     "name": "stdout",
     "output_type": "stream",
     "text": [
      "The best parameters are {'n_estimators': 110} with a score of 0.88000\n"
     ]
    }
   ],
   "source": [
    "n_estimators_range = np.arange(1000)[110:150]\n",
    "param_grid = dict(n_estimators=n_estimators_range)\n",
    "grid = GridSearchCV(AdaBoostClassifier(), param_grid=param_grid, cv=10)\n",
    "grid.fit(X, y)\n",
    "\n",
    "print(\"The best parameters are %s with a score of %0.5f\"\n",
    "      % (grid.best_params_, grid.best_score_))"
   ]
  },
  {
   "cell_type": "code",
   "execution_count": 27,
   "metadata": {
    "collapsed": false
   },
   "outputs": [
    {
     "name": "stdout",
     "output_type": "stream",
     "text": [
      "The best parameters are {'n_estimators': 87} with a score of 0.88000\n"
     ]
    }
   ],
   "source": [
    "n_estimators_range = np.arange(1000)[50:100]\n",
    "param_grid = dict(n_estimators=n_estimators_range)\n",
    "grid = GridSearchCV(AdaBoostClassifier(), param_grid=param_grid, cv=10)\n",
    "grid.fit(X, y)\n",
    "\n",
    "print(\"The best parameters are %s with a score of %0.5f\"\n",
    "      % (grid.best_params_, grid.best_score_))"
   ]
  },
  {
   "cell_type": "code",
   "execution_count": 28,
   "metadata": {
    "collapsed": false
   },
   "outputs": [
    {
     "name": "stdout",
     "output_type": "stream",
     "text": [
      "The best parameters are {'n_estimators': 39} with a score of 0.87568\n"
     ]
    }
   ],
   "source": [
    "n_estimators_range = np.arange(1000)[1:50]\n",
    "param_grid = dict(n_estimators=n_estimators_range)\n",
    "grid = GridSearchCV(AdaBoostClassifier(), param_grid=param_grid, cv=10)\n",
    "grid.fit(X, y)\n",
    "\n",
    "print(\"The best parameters are %s with a score of %0.5f\"\n",
    "      % (grid.best_params_, grid.best_score_))"
   ]
  },
  {
   "cell_type": "code",
   "execution_count": 29,
   "metadata": {
    "collapsed": false
   },
   "outputs": [
    {
     "name": "stdout",
     "output_type": "stream",
     "text": [
      "The best parameters are {'n_estimators': 158} with a score of 0.87784\n"
     ]
    }
   ],
   "source": [
    "n_estimators_range = np.arange(1000)[150:300]\n",
    "param_grid = dict(n_estimators=n_estimators_range)\n",
    "grid = GridSearchCV(AdaBoostClassifier(), param_grid=param_grid, cv=10)\n",
    "grid.fit(X, y)\n",
    "\n",
    "print(\"The best parameters are %s with a score of %0.5f\"\n",
    "      % (grid.best_params_, grid.best_score_))"
   ]
  },
  {
   "cell_type": "code",
   "execution_count": 34,
   "metadata": {
    "collapsed": false
   },
   "outputs": [
    {
     "name": "stdout",
     "output_type": "stream",
     "text": [
      "The best parameters are {'n_neighbors': 12} with a score of 0.83243\n"
     ]
    }
   ],
   "source": [
    "n_neighbors_range = np.arange(1000)[2:200]\n",
    "param_grid = dict(n_neighbors=n_neighbors_range)\n",
    "grid = GridSearchCV(KNeighborsClassifier(), param_grid=param_grid, cv=10)\n",
    "grid.fit(X, y)\n",
    "\n",
    "print(\"The best parameters are %s with a score of %0.5f\"\n",
    "      % (grid.best_params_, grid.best_score_))"
   ]
  },
  {
   "cell_type": "code",
   "execution_count": null,
   "metadata": {
    "collapsed": true
   },
   "outputs": [],
   "source": [
    "kernel_range = [\"linear\", \"poly\", \"rbf\", \"sigmoid\"]\n",
    "C_range = np.logspace(-2, 10, 13)\n",
    "gamma_range = np.logspace(-9, 3, 13)\n",
    "param_grid = dict(kernel=kernel_range, gamma=gamma_range, C=C_range)\n",
    "grid = GridSearchCV(SVC(), param_grid=param_grid, cv=10)\n",
    "grid.fit(X, y)\n",
    "\n",
    "print(\"The best parameters are %s with a score of %0.5f\"\n",
    "      % (grid.best_params_, grid.best_score_))"
   ]
  },
  {
   "cell_type": "code",
   "execution_count": null,
   "metadata": {
    "collapsed": true
   },
   "outputs": [],
   "source": [
    "criterion_range = [\"gini\", \"entropy\"]\n",
    "max_depth_range = np.arange(100)[1::5]\n",
    "param_grid = dict(criterion=criterion_range, max_depth=max_depth_range)\n",
    "grid = GridSearchCV(DecisionTreeClassifier(), param_grid=param_grid, cv=10)\n",
    "grid.fit(X, y)\n",
    "print(\"The best parameters are %s with a score of %0.5f\"\n",
    "      % (grid.best_params_, grid.best_score_))"
   ]
  },
  {
   "cell_type": "code",
   "execution_count": null,
   "metadata": {
    "collapsed": true
   },
   "outputs": [],
   "source": [
    "n_estimators_range = np.arange(1000)[1:50]\n",
    "criterion_range = [\"gini\", \"entropy\"]\n",
    "max_depth_range = np.arange(100)[1::5]\n",
    "param_grid = dict(n_estimators=n_estimators_range, criterion=criterion_range, max_depth=max_depth_range)\n",
    "grid = GridSearchCV(RandomForestClassifier(), param_grid=param_grid, cv=10)\n",
    "grid.fit(X, y)\n",
    "print(\"The best parameters are %s with a score of %0.5f\"\n",
    "      % (grid.best_params_, grid.best_score_))"
   ]
  }
 ],
 "metadata": {
  "kernelspec": {
   "display_name": "Python 2",
   "language": "python",
   "name": "python2"
  },
  "language_info": {
   "codemirror_mode": {
    "name": "ipython",
    "version": 2
   },
   "file_extension": ".py",
   "mimetype": "text/x-python",
   "name": "python",
   "nbconvert_exporter": "python",
   "pygments_lexer": "ipython2",
   "version": "2.7.11"
  }
 },
 "nbformat": 4,
 "nbformat_minor": 0
}
