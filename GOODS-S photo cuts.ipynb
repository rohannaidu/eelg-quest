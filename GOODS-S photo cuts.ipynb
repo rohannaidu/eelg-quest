{
 "cells": [
  {
   "cell_type": "code",
   "execution_count": 1,
   "metadata": {
    "collapsed": true
   },
   "outputs": [],
   "source": [
    "import numpy as np\n",
    "import scipy\n",
    "from scipy import stats\n",
    "from astropy.io import fits\n",
    "south_list = fits.open('goodss_3dhst.v4.1.cat.FITS', memmap=True)\n",
    "south_data = south_list[1].data\n",
    "import matplotlib\n",
    "import matplotlib.pyplot as plt\n",
    "%matplotlib inline\n",
    "pha_list = fits.open('3dhst.v4.1.4.full.v1.fits', memmap=True)\n",
    "pha_data = pha_list[1].data\n",
    "import numpy.ma as ma\n",
    "\n",
    "def magab_err(flux, error):\n",
    "    if (np.absolute(error)) >= flux:\n",
    "        return 1.085\n",
    "    else:\n",
    "        return np.absolute((-1.085)* (error/flux))\n",
    "    \n",
    "def magab(flux, error):\n",
    "    if error > flux:\n",
    "        return (((-2.5)*(np.log10(error))) + 25 )\n",
    "    else:\n",
    "        return (((-2.5)*(np.log10(flux))) + 25 )\n",
    "\n",
    "magfunc = np.vectorize(magab)\n",
    "magerrorfunc = np.vectorize(magab_err)"
   ]
  },
  {
   "cell_type": "code",
   "execution_count": 2,
   "metadata": {
    "collapsed": false
   },
   "outputs": [
    {
     "name": "stdout",
     "output_type": "stream",
     "text": [
      "[[    1 50507]]\n",
      "[[    0 10509]\n",
      " [    1 39998]]\n"
     ]
    }
   ],
   "source": [
    "print scipy.stats.itemfreq(pha_data['id'][113358:163865] == south_data['id'])\n",
    "south_phot_use_1= (south_data['use_phot']==1)\n",
    "print scipy.stats.itemfreq((south_data['use_phot']==1))"
   ]
  },
  {
   "cell_type": "code",
   "execution_count": 5,
   "metadata": {
    "collapsed": true
   },
   "outputs": [],
   "source": [
    "def cutter (a, a_err, b, b_err, c, c_err): \n",
    "    return (((magfunc(a, a_err)- magfunc(b, b_err) >(0.44 + (((magerrorfunc(a, a_err))**2) + ((magerrorfunc(b, b_err))**2))**.5)) & \n",
    "(magfunc(c, c_err)- magfunc(b, b_err) >(0.44 + (((magerrorfunc(c, c_err))**2) + ((magerrorfunc(b, b_err))**2))**.5))) & south_phot_use_1 & ((a>=0)& (b>=0) & (c>=0)) & (((a/a_err)>3)&((b/b_err)>3)&((c/c_err)>3)))\n",
    "#& (((a/a_err)>3)&((b/b_err)>3)&((c/c_err)>3))"
   ]
  },
  {
   "cell_type": "code",
   "execution_count": 6,
   "metadata": {
    "collapsed": false
   },
   "outputs": [
    {
     "name": "stderr",
     "output_type": "stream",
     "text": [
      "C:\\Anaconda\\lib\\site-packages\\IPython\\kernel\\__main__.py:24: RuntimeWarning: invalid value encountered in log10\n",
      "C:\\Anaconda\\lib\\site-packages\\IPython\\kernel\\__main__.py:22: RuntimeWarning: invalid value encountered in log10\n",
      "C:\\Anaconda\\lib\\site-packages\\IPython\\kernel\\__main__.py:24: RuntimeWarning: divide by zero encountered in log10\n"
     ]
    },
    {
     "name": "stdout",
     "output_type": "stream",
     "text": [
      "south_jhk000 5\n",
      "south_jhk001 8\n",
      "south_jhk010 16\n",
      "south_jhk011 9\n",
      "south_jhk100 7\n",
      "south_jhk101 8\n",
      "south_jhk110 20\n",
      "south_jhk111 6\n",
      "south_jhk200 6\n",
      "south_jhk201 7\n",
      "south_jhk210 24\n",
      "south_jhk211 8\n"
     ]
    },
    {
     "name": "stderr",
     "output_type": "stream",
     "text": [
      "C:\\Anaconda\\lib\\site-packages\\IPython\\kernel\\__main__.py:3: RuntimeWarning: invalid value encountered in greater\n",
      "  app.launch_new_instance()\n"
     ]
    }
   ],
   "source": [
    "###jhk selection###\n",
    "afils = [south_data['f_j'], south_data['e_j'], south_data['f_tenisj'], south_data['e_tenisj'], south_data['f_f125w'],south_data['e_f125w']]\n",
    "bfils= [south_data['f_f160w'], south_data['e_f160w'], south_data['f_h'], south_data['e_h']]\n",
    "cfils= [south_data['f_tenisK'], south_data['e_tenisK'], south_data['f_ks'], south_data['e_ks']]\n",
    "\n",
    "for a in range(0,3):\n",
    "    for b in range (0,2):\n",
    "        for c in range (0,2):\n",
    "            globals()['south_jhk%d%d%d' %(a,b,c)] = (cutter(afils[2*a], afils[1+(2*a)], bfils[2*b], bfils[1+(2*b)], cfils[2*c], cfils[1+(2*c)]))\n",
    "\n",
    "for a in range(0,3):\n",
    "    for b in range (0,2):\n",
    "        for c in range (0,2):\n",
    "            print \"south_jhk%d%d%d\"%(a,b,c), np.count_nonzero((globals()['south_jhk%d%d%d' %(a,b,c)])==1)"
   ]
  },
  {
   "cell_type": "code",
   "execution_count": 7,
   "metadata": {
    "collapsed": false
   },
   "outputs": [
    {
     "data": {
      "text/plain": [
       "array([  593,  4527, 13104, 13567, 14777, 24699, 28104, 29345, 38584], dtype=int64)"
      ]
     },
     "execution_count": 7,
     "metadata": {},
     "output_type": "execute_result"
    }
   ],
   "source": [
    "south_data['id'][south_jhk200|south_jhk201]"
   ]
  },
  {
   "cell_type": "code",
   "execution_count": 9,
   "metadata": {
    "collapsed": false
   },
   "outputs": [
    {
     "name": "stderr",
     "output_type": "stream",
     "text": [
      "C:\\Anaconda\\lib\\site-packages\\IPython\\kernel\\__main__.py:24: RuntimeWarning: invalid value encountered in log10\n",
      "C:\\Anaconda\\lib\\site-packages\\IPython\\kernel\\__main__.py:22: RuntimeWarning: invalid value encountered in log10\n",
      "C:\\Anaconda\\lib\\site-packages\\IPython\\kernel\\__main__.py:24: RuntimeWarning: divide by zero encountered in log10\n"
     ]
    },
    {
     "name": "stdout",
     "output_type": "stream",
     "text": [
      "south_ijh000 8\n",
      "south_ijh001 1\n",
      "south_ijh010 11\n",
      "south_ijh011 4\n",
      "south_ijh020 4\n",
      "south_ijh021 2\n",
      "south_ijh100 272\n",
      "south_ijh101 4\n",
      "south_ijh110 172\n",
      "south_ijh111 9\n",
      "south_ijh120 42\n",
      "south_ijh121 8\n",
      "south_ijh200 327\n",
      "south_ijh201 4\n",
      "south_ijh210 198\n",
      "south_ijh211 10\n",
      "south_ijh220 46\n",
      "south_ijh221 8\n"
     ]
    },
    {
     "name": "stderr",
     "output_type": "stream",
     "text": [
      "C:\\Anaconda\\lib\\site-packages\\IPython\\kernel\\__main__.py:3: RuntimeWarning: invalid value encountered in greater\n",
      "  app.launch_new_instance()\n"
     ]
    }
   ],
   "source": [
    "###ijh selection###\n",
    "afils= [south_data['f_I'], south_data['e_I'], south_data['f_f775W'], south_data['e_f775W'], south_data['f_f814Wcand'], south_data['e_f814Wcand']]\n",
    "bfils = [south_data['f_j'], south_data['e_j'], south_data['f_tenisj'], south_data['e_tenisj'], south_data['f_f125w'],south_data['e_f125w']]\n",
    "cfils= [south_data['f_f160w'], south_data['e_f160w'], south_data['f_h'], south_data['e_h']]\n",
    "\n",
    "for a in range(0,3):\n",
    "    for b in range (0,3):\n",
    "        for c in range (0,2):\n",
    "            globals()['south_ijh%d%d%d' %(a,b,c)] = (cutter(afils[2*a], afils[1+(2*a)], bfils[2*b], bfils[1+(2*b)], cfils[2*c], cfils[1+(2*c)]))\n",
    "\n",
    "for a in range(0,3):\n",
    "    for b in range (0,3):\n",
    "        for c in range (0,2):\n",
    "            print \"south_ijh%d%d%d\"%(a,b,c), np.count_nonzero((globals()['south_ijh%d%d%d' %(a,b,c)])==1)"
   ]
  },
  {
   "cell_type": "code",
   "execution_count": null,
   "metadata": {
    "collapsed": true
   },
   "outputs": [],
   "source": [
    "afils= [south_data['f_I'], south_data['e_I'], south_data['f_f775W'], south_data['e_f775W'], south_data['f_f814Wcand'], south_data['e_f814Wcand']]\n",
    "bfils = [south_data['f_j'], south_data['e_j'], south_data['f_tenisj'], south_data['e_tenisj'], south_data['f_f125w'],south_data['e_f125w']]\n",
    "cfils= [south_data['f_f160w'], south_data['e_f160w'], south_data['f_h'], south_data['e_h']]\n",
    "\n",
    "for a in range(0,6):\n",
    "        for b in range (0,6):\n",
    "            for c in range (0,3):\n",
    "                f1,f1e, f2, f2e, f3, f3e = afils[2*a], afils[1+(cutter2*a)], bfils[2*b], bfils[1+(2*b)], cfils[2*c], cfils[1+(2*c)]\n",
    "                plt.figure(figsize=(10,6))\n",
    "                matplotlib.pyplot.scatter((magfunc(f2, f2e)- magfunc(f3, f3e)), (magfunc(f1, f1e)- magfunc(f2, f2e)) , \n",
    "                              c=['r' if value else 'k' for value in globals()['south_jhk%d%d%d' %(a,b,c)]], \n",
    "                              s= [50 if x==1&y==1 else 50 if x==1 else 50 if y==1 else 0.1 for x, y in zip(globals()['cosmos_jhk%d%d%d' %(a,b,c)],((((pha_data['z_spec']>1.75)&(pha_data['z_spec']<2.65)) | ((pha_data['z_peak']>1.75)&(pha_data['z_peak']<2.6))) & (((pha_data['OIII_EQW'] + pha_data['HBETA_EQW']) > 500) | (pha_data['HALPHA_EQW'] > 500))))])\n",
    "                plt.xlim(-5,5)\n",
    "                plt.ylim(-1,5)\n",
    "                plt.xlabel(\"$cosmos_jhk%d%d%d$\"%(a,b,c), fontsize=16)\n",
    "                plt.title('$Cosmos JHK$', fontsize=20)"
   ]
  },
  {
   "cell_type": "code",
   "execution_count": 11,
   "metadata": {
    "collapsed": false
   },
   "outputs": [
    {
     "name": "stdout",
     "output_type": "stream",
     "text": [
      "[ 2402  2443  2888  3470  3783  4516  4925  5012 10416 10834 12392 12416\n",
      " 12719 12913 13625 14546 16027 18268 18636 19680 19688 21024 21672 25385\n",
      " 25804 27809 27831 30069 32147 32155 32241 33131 33136 34654 34706 35395\n",
      " 35675 36337 38780 39643 39882 40539 40899 43394 43561 43666 43693 43910\n",
      " 46676]\n"
     ]
    }
   ],
   "source": [
    "print (south_data['id'][south_ijh120|south_ijh220])"
   ]
  },
  {
   "cell_type": "code",
   "execution_count": 14,
   "metadata": {
    "collapsed": false
   },
   "outputs": [
    {
     "name": "stderr",
     "output_type": "stream",
     "text": [
      "C:\\Anaconda\\lib\\site-packages\\IPython\\kernel\\__main__.py:24: RuntimeWarning: divide by zero encountered in log10\n",
      "C:\\Anaconda\\lib\\site-packages\\IPython\\kernel\\__main__.py:24: RuntimeWarning: invalid value encountered in log10\n",
      "C:\\Anaconda\\lib\\site-packages\\IPython\\kernel\\__main__.py:22: RuntimeWarning: invalid value encountered in log10\n",
      "C:\\Anaconda\\lib\\site-packages\\IPython\\kernel\\__main__.py:3: RuntimeWarning: invalid value encountered in greater\n",
      "  app.launch_new_instance()\n"
     ]
    },
    {
     "name": "stdout",
     "output_type": "stream",
     "text": [
      "south_vz000 8\n",
      "south_vz001 3\n",
      "south_vz002 2\n",
      "south_vz003 8\n",
      "south_vz004 21\n",
      "south_vz005 2\n",
      "south_vz006 1\n",
      "south_vz007 3\n",
      "south_vz010 37\n",
      "south_vz011 33\n",
      "south_vz012 109\n",
      "south_vz013 46\n",
      "south_vz014 154\n",
      "south_vz015 6\n",
      "south_vz016 18\n",
      "south_vz017 13\n",
      "south_vz100 6\n",
      "south_vz101 3\n",
      "south_vz102 4\n",
      "south_vz103 7\n",
      "south_vz104 25\n",
      "south_vz105 2\n",
      "south_vz106 1\n",
      "south_vz107 3\n",
      "south_vz110 38\n",
      "south_vz111 31\n",
      "south_vz112 175\n",
      "south_vz113 50\n",
      "south_vz114 345\n",
      "south_vz115 7\n",
      "south_vz116 16\n",
      "south_vz117 14\n",
      "south_vz200 1\n",
      "south_vz201 2\n",
      "south_vz202 2\n",
      "south_vz203 4\n",
      "south_vz204 8\n",
      "south_vz205 1\n",
      "south_vz206 1\n",
      "south_vz207 1\n",
      "south_vz210 16\n",
      "south_vz211 10\n",
      "south_vz212 77\n",
      "south_vz213 17\n",
      "south_vz214 141\n",
      "south_vz215 4\n",
      "south_vz216 5\n",
      "south_vz217 7\n"
     ]
    },
    {
     "name": "stderr",
     "output_type": "stream",
     "text": [
      "C:\\Anaconda\\lib\\site-packages\\IPython\\kernel\\__main__.py:3: RuntimeWarning: invalid value encountered in divide\n",
      "  app.launch_new_instance()\n"
     ]
    }
   ],
   "source": [
    "###vz--jhk selection###\n",
    "bfils = [south_data['f_F850LP'], south_data['e_F850LP'],south_data['f_F850LPcand'], south_data['e_F850LPcand']]\n",
    "cfils= [south_data['f_j'], south_data['e_j'], south_data['f_tenisj'], south_data['e_tenisj'],south_data['f_f125w'],south_data['e_f125w'], south_data['f_f140w'], south_data['e_f140w'],south_data['f_f160w'], south_data['e_f160w'], south_data['f_h'], south_data['e_h'], south_data['f_tenisk'],south_data['e_tenisk'], south_data['f_ks'], south_data['e_ks']]\n",
    "afils= [south_data['f_v'], south_data['e_v'], south_data['f_F606W'], south_data['e_F606W'],south_data['f_F606Wcand'], south_data['e_F606Wcand']]\n",
    "\n",
    "for a in range(0,3):\n",
    "    for b in range (0,2):\n",
    "        for c in range (0,8):\n",
    "            globals()['south_vz%d%d%d' %(a,b,c)] = (cutter(afils[2*a], afils[1+(2*a)], bfils[2*b], bfils[1+(2*b)], cfils[2*c], cfils[1+(2*c)]))\n",
    "\n",
    "for a in range(0,3):\n",
    "    for b in range (0,2):\n",
    "        for c in range (0,8):\n",
    "            print \"south_vz%d%d%d\"%(a,b,c), np.count_nonzero((globals()['south_vz%d%d%d' %(a,b,c)])==1)"
   ]
  },
  {
   "cell_type": "code",
   "execution_count": 22,
   "metadata": {
    "collapsed": false
   },
   "outputs": [
    {
     "name": "stderr",
     "output_type": "stream",
     "text": [
      "C:\\Anaconda\\lib\\site-packages\\IPython\\kernel\\__main__.py:4: RuntimeWarning: overflow encountered in square\n",
      "C:\\Anaconda\\lib\\site-packages\\IPython\\kernel\\__main__.py:29: RuntimeWarning: invalid value encountered in greater\n",
      "C:\\Anaconda\\lib\\site-packages\\IPython\\kernel\\__main__.py:31: RuntimeWarning: invalid value encountered in greater\n",
      "C:\\Anaconda\\lib\\site-packages\\IPython\\kernel\\__main__.py:32: RuntimeWarning: invalid value encountered in greater\n",
      "C:\\Anaconda\\lib\\site-packages\\IPython\\kernel\\__main__.py:33: RuntimeWarning: invalid value encountered in greater\n",
      "C:\\Anaconda\\lib\\site-packages\\IPython\\kernel\\__main__.py:34: RuntimeWarning: invalid value encountered in greater\n",
      "C:\\Anaconda\\lib\\site-packages\\IPython\\kernel\\__main__.py:35: RuntimeWarning: invalid value encountered in greater\n",
      "C:\\Anaconda\\lib\\site-packages\\IPython\\kernel\\__main__.py:36: RuntimeWarning: invalid value encountered in greater\n",
      "C:\\Anaconda\\lib\\site-packages\\IPython\\kernel\\__main__.py:56: RuntimeWarning: invalid value encountered in greater\n"
     ]
    },
    {
     "name": "stdout",
     "output_type": "stream",
     "text": [
      "7\n",
      "5\n",
      "4\n"
     ]
    },
    {
     "data": {
      "text/plain": [
       "(0, 2000)"
      ]
     },
     "execution_count": 22,
     "metadata": {},
     "output_type": "execute_result"
    },
    {
     "data": {
      "image/png": "[encoded data removed]",
      "text/plain": [
       "<matplotlib.figure.Figure at 0x18ab3128>"
      ]
     },
     "metadata": {},
     "output_type": "display_data"
    }
   ],
   "source": [
    "south_oxy = pha_data['OIII_EQW'][113358:163865]\n",
    "south_hbeta = pha_data['HBETA_EQW'][113358:163865]\n",
    "south_eqw_sum = south_oxy + south_hbeta\n",
    "south_eqw_err_1 = (pha_data['OIII_EQW_ERR'][113358:163865])**2\n",
    "south_eqw_err_2 = (pha_data['HBETA_EQW_ERR'][113358:163865])**2\n",
    "south_eqw_err_net = (south_eqw_err_1 + south_eqw_err_2)**0.5\n",
    "\n",
    "\n",
    "current_cut = (south_ijh000|\n",
    "south_ijh001|\n",
    "south_ijh010|\n",
    "south_ijh011|\n",
    "south_ijh020|\n",
    "south_ijh021|\n",
    "south_ijh100|\n",
    "south_ijh101|\n",
    "south_ijh110|\n",
    "south_ijh111|\n",
    "south_ijh120|\n",
    "south_ijh121|\n",
    "south_ijh200|\n",
    "south_ijh201|\n",
    "south_ijh210|\n",
    "south_ijh211|\n",
    "south_ijh220|\n",
    "south_ijh221)\n",
    "#insert cut above\n",
    "plt.figure(figsize=(16,8))\n",
    "n_groups = len(south_eqw_sum[(current_cut == 1)&((pha_data['HALPHA_EQW'][113358:163865] >0) | (south_eqw_sum>0))])\n",
    "print n_groups\n",
    "print np.count_nonzero(((current_cut == 1)& ((pha_data['HALPHA_EQW'][113358:163865] >500) | (south_eqw_sum>500)))==1)\n",
    "print np.count_nonzero(((current_cut == 1)& ((pha_data['HALPHA_EQW'][113358:163865] >1000) | (south_eqw_sum>1000)))==1)\n",
    "means_men = south_eqw_sum[(current_cut == 1)& ((pha_data['HALPHA_EQW'][113358:163865] >0) | (south_eqw_sum>0))]\n",
    "std_men = south_eqw_err_net[(current_cut == 1)& ((pha_data['HALPHA_EQW'][113358:163865] >0) | (south_eqw_sum>0))]\n",
    "means_women = pha_data['HALPHA_EQW'][113358:163865][(current_cut == 1)& ((pha_data['HALPHA_EQW'][113358:163865] >0) | (south_eqw_sum>0))]\n",
    "std_women = pha_data['HALPHA_EQW_ERR'][113358:163865][(current_cut == 1) & ((pha_data['HALPHA_EQW'][113358:163865] >0) | (south_eqw_sum>0))]\n",
    "index = np.arange(n_groups)\n",
    "bar_width = 0.35\n",
    "opacity = 0.4\n",
    "error_config = {'ecolor': '0.3'}\n",
    "rects1 = plt.bar(index, means_men, bar_width,\n",
    "                 alpha=opacity,\n",
    "                 color='r',\n",
    "                 yerr=std_men,\n",
    "                 error_kw=error_config,\n",
    "                 label='$OIII + H_{beta}$')\n",
    "rects2 = plt.bar(index + bar_width, means_women, bar_width,\n",
    "                 alpha=opacity,\n",
    "                 color='b',\n",
    "                 yerr=std_women,\n",
    "                 error_kw=error_config,\n",
    "                 label='$H_{alpha}$')\n",
    "plt.xlabel('$ID$', fontsize = 25 )\n",
    "plt.ylabel('$Equivalent Width$', fontsize = 25)\n",
    "plt.title('$Goods-S ijh} $', fontsize = 25)\n",
    "plt.xticks(index + bar_width, pha_data['id'][113358:163865][(current_cut == 1)&((pha_data['HALPHA_EQW'][113358:163865] >0) | (south_eqw_sum>0))])\n",
    "plt.yticks(np.arange(0, max(means_men), 500 ))\n",
    "plt.legend(loc='upper left')\n",
    "plt.axis('tight')\n",
    "plt.ylim(0,2000)"
   ]
  },
  {
   "cell_type": "code",
   "execution_count": 24,
   "metadata": {
    "collapsed": false
   },
   "outputs": [
    {
     "name": "stderr",
     "output_type": "stream",
     "text": [
      "C:\\Anaconda\\lib\\site-packages\\IPython\\kernel\\__main__.py:4: RuntimeWarning: overflow encountered in square\n",
      "C:\\Anaconda\\lib\\site-packages\\IPython\\kernel\\__main__.py:23: RuntimeWarning: invalid value encountered in greater\n",
      "C:\\Anaconda\\lib\\site-packages\\IPython\\kernel\\__main__.py:25: RuntimeWarning: invalid value encountered in greater\n",
      "C:\\Anaconda\\lib\\site-packages\\IPython\\kernel\\__main__.py:26: RuntimeWarning: invalid value encountered in greater\n",
      "C:\\Anaconda\\lib\\site-packages\\IPython\\kernel\\__main__.py:27: RuntimeWarning: invalid value encountered in greater\n",
      "C:\\Anaconda\\lib\\site-packages\\IPython\\kernel\\__main__.py:28: RuntimeWarning: invalid value encountered in greater\n",
      "C:\\Anaconda\\lib\\site-packages\\IPython\\kernel\\__main__.py:29: RuntimeWarning: invalid value encountered in greater\n",
      "C:\\Anaconda\\lib\\site-packages\\IPython\\kernel\\__main__.py:30: RuntimeWarning: invalid value encountered in greater\n",
      "C:\\Anaconda\\lib\\site-packages\\IPython\\kernel\\__main__.py:50: RuntimeWarning: invalid value encountered in greater\n"
     ]
    },
    {
     "name": "stdout",
     "output_type": "stream",
     "text": [
      "7\n",
      "6\n",
      "6\n"
     ]
    },
    {
     "data": {
      "text/plain": [
       "(0, 2000)"
      ]
     },
     "execution_count": 24,
     "metadata": {},
     "output_type": "execute_result"
    },
    {
     "data": {
      "image/png": "[encoded data removed]",
      "text/plain": [
       "<matplotlib.figure.Figure at 0x17cc3828>"
      ]
     },
     "metadata": {},
     "output_type": "display_data"
    }
   ],
   "source": [
    "south_oxy = pha_data['OIII_EQW'][113358:163865]\n",
    "south_hbeta = pha_data['HBETA_EQW'][113358:163865]\n",
    "south_eqw_sum = south_oxy + south_hbeta\n",
    "south_eqw_err_1 = (pha_data['OIII_EQW_ERR'][113358:163865])**2\n",
    "south_eqw_err_2 = (pha_data['HBETA_EQW_ERR'][113358:163865])**2\n",
    "south_eqw_err_net = (south_eqw_err_1 + south_eqw_err_2)**0.5\n",
    "\n",
    "\n",
    "current_cut = (south_jhk000|\n",
    "south_jhk001|\n",
    "south_jhk010|\n",
    "south_jhk011|\n",
    "south_jhk100|\n",
    "south_jhk101|\n",
    "south_jhk110|\n",
    "south_jhk111|\n",
    "south_jhk200|\n",
    "south_jhk201|\n",
    "south_jhk210|\n",
    "south_jhk211)\n",
    "#insert cut above\n",
    "plt.figure(figsize=(16,8))\n",
    "n_groups = len(south_eqw_sum[(current_cut == 1)&((pha_data['HALPHA_EQW'][113358:163865] >0) | (south_eqw_sum>0))])\n",
    "print n_groups\n",
    "print np.count_nonzero(((current_cut == 1)& ((pha_data['HALPHA_EQW'][113358:163865] >500) | (south_eqw_sum>500)))==1)\n",
    "print np.count_nonzero(((current_cut == 1)& ((pha_data['HALPHA_EQW'][113358:163865] >1000) | (south_eqw_sum>1000)))==1)\n",
    "means_men = south_eqw_sum[(current_cut == 1)& ((pha_data['HALPHA_EQW'][113358:163865] >0) | (south_eqw_sum>0))]\n",
    "std_men = south_eqw_err_net[(current_cut == 1)& ((pha_data['HALPHA_EQW'][113358:163865] >0) | (south_eqw_sum>0))]\n",
    "means_women = pha_data['HALPHA_EQW'][113358:163865][(current_cut == 1)& ((pha_data['HALPHA_EQW'][113358:163865] >0) | (south_eqw_sum>0))]\n",
    "std_women = pha_data['HALPHA_EQW_ERR'][113358:163865][(current_cut == 1) & ((pha_data['HALPHA_EQW'][113358:163865] >0) | (south_eqw_sum>0))]\n",
    "index = np.arange(n_groups)\n",
    "bar_width = 0.35\n",
    "opacity = 0.4\n",
    "error_config = {'ecolor': '0.3'}\n",
    "rects1 = plt.bar(index, means_men, bar_width,\n",
    "                 alpha=opacity,\n",
    "                 color='r',\n",
    "                 yerr=std_men,\n",
    "                 error_kw=error_config,\n",
    "                 label='$OIII + H_{beta}$')\n",
    "rects2 = plt.bar(index + bar_width, means_women, bar_width,\n",
    "                 alpha=opacity,\n",
    "                 color='b',\n",
    "                 yerr=std_women,\n",
    "                 error_kw=error_config,\n",
    "                 label='$H_{alpha}$')\n",
    "plt.xlabel('$ID$', fontsize = 25 )\n",
    "plt.ylabel('$Equivalent Width$', fontsize = 25)\n",
    "plt.title('$Goods-S jhk} $', fontsize = 25)\n",
    "plt.xticks(index + bar_width, pha_data['id'][113358:163865][(current_cut == 1)&((pha_data['HALPHA_EQW'][113358:163865] >0) | (south_eqw_sum>0))])\n",
    "plt.yticks(np.arange(0, max(means_men), 500 ))\n",
    "plt.legend(loc='upper left')\n",
    "plt.axis('tight')\n",
    "plt.ylim(0,2000)"
   ]
  },
  {
   "cell_type": "code",
   "execution_count": 30,
   "metadata": {
    "collapsed": false
   },
   "outputs": [
    {
     "data": {
      "text/plain": [
       "array([ 2623.44995117], dtype=float32)"
      ]
     },
     "execution_count": 30,
     "metadata": {},
     "output_type": "execute_result"
    }
   ],
   "source": [
    "south_eqw_sum[south_data['id']==13567]"
   ]
  },
  {
   "cell_type": "code",
   "execution_count": 36,
   "metadata": {
    "collapsed": false
   },
   "outputs": [
    {
     "name": "stdout",
     "output_type": "stream",
     "text": [
      "True\n",
      "True\n"
     ]
    }
   ],
   "source": [
    "print south_jhk210[10058]\n",
    "print south_jhk110[10058]"
   ]
  },
  {
   "cell_type": "code",
   "execution_count": 40,
   "metadata": {
    "collapsed": false
   },
   "outputs": [
    {
     "name": "stdout",
     "output_type": "stream",
     "text": [
      "6.972945\n",
      "3.259777\n",
      "13.801692\n",
      "3.685334\n",
      "4.132257\n",
      "0.297913\n",
      "0.180749\n"
     ]
    }
   ],
   "source": [
    "print south_data['f_tenisj'][10058]\n",
    "print south_data['f_f125w'][10058]\n",
    "print south_data['f_h'][10058]\n",
    "print south_data['f_tenisk'][10058]\n",
    "print south_data['f_f160w'][10058]\n",
    "print south_data['e_h'][10058]\n",
    "print south_data['e_f160w'][10058]"
   ]
  },
  {
   "cell_type": "code",
   "execution_count": 41,
   "metadata": {
    "collapsed": false
   },
   "outputs": [
    {
     "name": "stderr",
     "output_type": "stream",
     "text": [
      "C:\\Anaconda\\lib\\site-packages\\IPython\\kernel\\__main__.py:24: RuntimeWarning: invalid value encountered in log10\n",
      "C:\\Anaconda\\lib\\site-packages\\IPython\\kernel\\__main__.py:22: RuntimeWarning: invalid value encountered in log10\n",
      "C:\\Anaconda\\lib\\site-packages\\IPython\\kernel\\__main__.py:24: RuntimeWarning: divide by zero encountered in log10\n"
     ]
    },
    {
     "name": "stdout",
     "output_type": "stream",
     "text": [
      "south_ihk000 5\n",
      "south_ihk001 13\n",
      "south_ihk010 18\n",
      "south_ihk011 7\n",
      "south_ihk100 7\n",
      "south_ihk101 18\n",
      "south_ihk110 30\n",
      "south_ihk111 15\n",
      "south_ihk200 8\n",
      "south_ihk201 18\n",
      "south_ihk210 29\n",
      "south_ihk211 15\n"
     ]
    },
    {
     "name": "stderr",
     "output_type": "stream",
     "text": [
      "C:\\Anaconda\\lib\\site-packages\\IPython\\kernel\\__main__.py:3: RuntimeWarning: invalid value encountered in greater\n",
      "  app.launch_new_instance()\n"
     ]
    }
   ],
   "source": [
    "###ihk selection###\n",
    "afils= [south_data['f_I'], south_data['e_I'], south_data['f_f775W'], south_data['e_f775W'], south_data['f_f814Wcand'], south_data['e_f814Wcand']]\n",
    "bfils = [south_data['f_f160w'], south_data['e_f160w'], south_data['f_h'], south_data['e_h']] \n",
    "cfils= [south_data['f_tenisK'], south_data['e_tenisK'], south_data['f_ks'], south_data['e_ks']]\n",
    "\n",
    "for a in range(0,3):\n",
    "    for b in range (0,2):\n",
    "        for c in range (0,2):\n",
    "            globals()['south_ihk%d%d%d' %(a,b,c)] = (cutter(afils[2*a], afils[1+(2*a)], bfils[2*b], bfils[1+(2*b)], cfils[2*c], cfils[1+(2*c)]))\n",
    "\n",
    "for a in range(0,3):\n",
    "    for b in range (0,2):\n",
    "        for c in range (0,2):\n",
    "            print \"south_ihk%d%d%d\"%(a,b,c), np.count_nonzero((globals()['south_ihk%d%d%d' %(a,b,c)])==1)"
   ]
  },
  {
   "cell_type": "code",
   "execution_count": 42,
   "metadata": {
    "collapsed": false
   },
   "outputs": [
    {
     "name": "stdout",
     "output_type": "stream",
     "text": [
      "[  593   627  4527  5140  9612 12534 12811 13104 13567 13597 14487 14777\n",
      " 14799 17462 20321 24699 28104 29345 30427 38584 41194 45699 46560]\n"
     ]
    }
   ],
   "source": [
    "print (south_data['id'][south_ihk100|south_ihk101|south_ihk200|south_ihk201])"
   ]
  },
  {
   "cell_type": "code",
   "execution_count": 43,
   "metadata": {
    "collapsed": false
   },
   "outputs": [
    {
     "name": "stderr",
     "output_type": "stream",
     "text": [
      "C:\\Anaconda\\lib\\site-packages\\IPython\\kernel\\__main__.py:24: RuntimeWarning: divide by zero encountered in log10\n",
      "C:\\Anaconda\\lib\\site-packages\\IPython\\kernel\\__main__.py:24: RuntimeWarning: invalid value encountered in log10\n",
      "C:\\Anaconda\\lib\\site-packages\\IPython\\kernel\\__main__.py:22: RuntimeWarning: invalid value encountered in log10\n",
      "C:\\Anaconda\\lib\\site-packages\\IPython\\kernel\\__main__.py:3: RuntimeWarning: invalid value encountered in subtract\n",
      "  app.launch_new_instance()\n",
      "C:\\Anaconda\\lib\\site-packages\\IPython\\kernel\\__main__.py:3: RuntimeWarning: invalid value encountered in greater\n",
      "  app.launch_new_instance()\n",
      "C:\\Anaconda\\lib\\site-packages\\IPython\\kernel\\__main__.py:3: RuntimeWarning: invalid value encountered in divide\n",
      "  app.launch_new_instance()\n"
     ]
    },
    {
     "name": "stdout",
     "output_type": "stream",
     "text": [
      "south_vij000 24\n",
      "south_vij001 17\n",
      "south_vij002 164\n",
      "south_vij010 6\n",
      "south_vij011 11\n",
      "south_vij012 24\n",
      "south_vij020 2\n",
      "south_vij021 4\n",
      "south_vij022 13\n",
      "south_vij100 24\n",
      "south_vij101 14\n",
      "south_vij102 190\n",
      "south_vij110 5\n",
      "south_vij111 10\n",
      "south_vij112 20\n",
      "south_vij120 2\n",
      "south_vij121 3\n",
      "south_vij122 16\n",
      "south_vij200 12\n",
      "south_vij201 6\n",
      "south_vij202 68\n",
      "south_vij210 2\n",
      "south_vij211 6\n",
      "south_vij212 8\n",
      "south_vij220 0\n",
      "south_vij221 1\n",
      "south_vij222 3\n"
     ]
    }
   ],
   "source": [
    "###vij selection###\n",
    "cfils = [south_data['f_j'], south_data['e_j'], south_data['f_tenisj'], south_data['e_tenisj'], south_data['f_f125w'],south_data['e_f125w']]\n",
    "bfils= [south_data['f_I'], south_data['e_I'], south_data['f_f775W'], south_data['e_f775W'], south_data['f_f814Wcand'], south_data['e_f814Wcand']]\n",
    "afils= [south_data['f_v'], south_data['e_v'], south_data['f_F606W'], south_data['e_F606W'],south_data['f_F606Wcand'], south_data['e_F606Wcand']]\n",
    "\n",
    "for a in range(0,3):\n",
    "    for b in range (0,3):\n",
    "        for c in range (0,3):\n",
    "            globals()['south_vij%d%d%d' %(a,b,c)] = (cutter(afils[2*a], afils[1+(2*a)], bfils[2*b], bfils[1+(2*b)], cfils[2*c], cfils[1+(2*c)]))\n",
    "\n",
    "for a in range(0,3):\n",
    "    for b in range (0,3):\n",
    "        for c in range (0,3):\n",
    "            print \"south_vij%d%d%d\"%(a,b,c), np.count_nonzero((globals()['south_vij%d%d%d' %(a,b,c)])==1)"
   ]
  },
  {
   "cell_type": "code",
   "execution_count": 44,
   "metadata": {
    "collapsed": false
   },
   "outputs": [
    {
     "name": "stdout",
     "output_type": "stream",
     "text": [
      "[  976  5419  5447  5522  7489  8278  8402  9324  9638 10030 10616 12949\n",
      " 13657 13763 21538 26468 26580 29877 32739 32893 36982 38834 40132 40330\n",
      " 40578 40718 41608 42045 43217 43580 43613 43711 50051 50307 50373]\n"
     ]
    }
   ],
   "source": [
    "print (south_data['id'][south_vij112|south_vij122|south_vij212|south_vij222])"
   ]
  },
  {
   "cell_type": "code",
   "execution_count": null,
   "metadata": {
    "collapsed": true
   },
   "outputs": [],
   "source": []
  }
 ],
 "metadata": {
  "kernelspec": {
   "display_name": "Python 2",
   "language": "python",
   "name": "python2"
  },
  "language_info": {
   "codemirror_mode": {
    "name": "ipython",
    "version": 2
   },
   "file_extension": ".py",
   "mimetype": "text/x-python",
   "name": "python",
   "nbconvert_exporter": "python",
   "pygments_lexer": "ipython2",
   "version": "2.7.7"
  }
 },
 "nbformat": 4,
 "nbformat_minor": 0
}
